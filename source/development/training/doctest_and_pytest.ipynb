{
 "cells": [
  {
   "cell_type": "markdown",
   "id": "b228982a-6f97-432a-b4fa-51e7a41dacfc",
   "metadata": {
    "slideshow": {
     "slide_type": "slide"
    },
    "tags": []
   },
   "source": [
    "# Code Testing with `pytest` and `doctest`\n",
    "\n",
    "David Orme"
   ]
  },
  {
   "cell_type": "markdown",
   "id": "3a2f30c6-cf14-49cd-8dea-3caff88adc5d",
   "metadata": {
    "slideshow": {
     "slide_type": "slide"
    },
    "tags": []
   },
   "source": [
    "## What is code testing?\n",
    "\n",
    "* How do you know your code does what it claims to do?\n",
    "    * \"Well, that's what I wrote it to do\"\n",
    "    * \"Well, if I give it this inputs it does this, **as expected**\"\n",
    "* Testing frameworks allow us to:\n",
    "    * Give inputs to code \n",
    "    * Check that it does what is expected\n",
    "    * Repeatably and easily\n",
    "    * A vital part of **continuous integration**"
   ]
  },
  {
   "cell_type": "markdown",
   "id": "68c038ba-58b2-44d1-82ef-59f67007b320",
   "metadata": {
    "slideshow": {
     "slide_type": "subslide"
    },
    "tags": []
   },
   "source": [
    "## Continuous integration\n",
    "\n",
    "* Code from a team is pushed into `develop` regularly.\n",
    "* Need to be aware of **breaking changes**:\n",
    "    * Updated algorithm gives different answers\n",
    "    * Updated code takes different arguments\n",
    "* Code testing helps catch breaking changes:\n",
    "    * Catch and fix code errors\n",
    "    * Need to release new major version"
   ]
  },
  {
   "cell_type": "markdown",
   "id": "dc23fe4f-4e10-429b-a3db-b83d32575bf4",
   "metadata": {
    "slideshow": {
     "slide_type": "subslide"
    },
    "tags": []
   },
   "source": [
    "## Semantic versioning\n",
    "\n",
    "* Strict rules for version numbers\n",
    "    * https://semver.org/\n",
    "    * https://github.com/semver/semver\n",
    "* With MAJOR.MINOR.PATCH, increment the:\n",
    "    * MAJOR version when you make incompatible API changes,\n",
    "    * MINOR version when you add functionality in a backwards compatible manner, and\n",
    "    * PATCH version when you make backwards compatible bug fixes.\n",
    "\n"
   ]
  },
  {
   "cell_type": "markdown",
   "id": "0dc1b7cf-d4c8-4766-902a-73829ba02985",
   "metadata": {
    "slideshow": {
     "slide_type": "subslide"
    },
    "tags": []
   },
   "source": [
    "## What should tests be?\n",
    "\n",
    "* Pieces of code\n",
    "* Expected outcomes of running code\n",
    "* Individually small in scope\n",
    "* Not just testing the **right answer**\n",
    "* Test failure modes\n",
    "* Quick to run"
   ]
  },
  {
   "cell_type": "markdown",
   "id": "6ad6a035-2582-4e3e-8bb6-b0d43d4ee1da",
   "metadata": {
    "slideshow": {
     "slide_type": "subslide"
    },
    "tags": []
   },
   "source": [
    "## Frameworks\n",
    "\n",
    "* Lots of options, including:\n",
    "    * [The `pytest` extension](https://docs.pytest.org/)\n",
    "    * [The `doctest` standard library](https://docs.python.org/3/library/doctest.html)\n",
    "    * [The `unittest` standard library](https://docs.python.org/3/library/unittest.html)\n",
    "    * [The `nose` extension](https://nose.readthedocs.io/en/latest/)"
   ]
  },
  {
   "cell_type": "markdown",
   "id": "ca70b749-7aab-4db9-a27f-1ab6c9aee16b",
   "metadata": {
    "slideshow": {
     "slide_type": "slide"
    },
    "tags": []
   },
   "source": [
    "## The `doctest` package\n",
    "\n",
    "* The **docstrings** for code often includes example use\n",
    "* The `doctest` package runs those examples\n",
    "* Check if documented example code is **correct**\n",
    "    * Looks for `>>>`, `+++` and output\n",
    "    * Typically simple, self-contained tests\n",
    "    * **Exact match** to expected output\n",
    "\n"
   ]
  },
  {
   "cell_type": "markdown",
   "id": "44454d36-408d-4481-a17a-4fa8fe01d51c",
   "metadata": {
    "slideshow": {
     "slide_type": "subslide"
    },
    "tags": []
   },
   "source": [
    "## The `doctest` package"
   ]
  },
  {
   "cell_type": "code",
   "execution_count": 32,
   "id": "5db8aa20-1ca2-43c8-b838-9926d008b735",
   "metadata": {},
   "outputs": [],
   "source": [
    "# %load -s my_float_multiplier mfm.py\n",
    "def my_float_multiplier(x: float, y: float) -> float:\n",
    "    \"\"\"Multiplies two floats together.\n",
    "\n",
    "    Arguments:\n",
    "        x: The first number\n",
    "        y: The second number\n",
    "\n",
    "    Examples:\n",
    "        >>> my_float_multiplier(2.1, 3.6)\n",
    "        7.56\n",
    "    \"\"\"\n",
    "\n",
    "    return x * y\n"
   ]
  },
  {
   "cell_type": "markdown",
   "id": "48ea5a09-5681-42b7-912f-c2333405c824",
   "metadata": {
    "slideshow": {
     "slide_type": "subslide"
    },
    "tags": []
   },
   "source": [
    "## The `doctest` package\n",
    "\n",
    "```bash\n",
    "dorme@MacBook-Pro training % python -m doctest mfm.py\n",
    "*****************************************************\n",
    "File \"mfm.py\", line 9, in mfm.my_float_multiplier\n",
    "Failed example:\n",
    "    my_float_multiplier(2.1, 3.6)\n",
    "Expected:\n",
    "    7.56\n",
    "Got:\n",
    "    7.5600000000000005\n",
    "*****************************************************\n",
    "1 items had failures:\n",
    "   1 of   1 in untitled.my_float_multiplier\n",
    "***Test Failed*** 1 failures.\n",
    "dorme@MacBook-Pro training % \n",
    "```"
   ]
  },
  {
   "cell_type": "code",
   "execution_count": 33,
   "id": "91ff8fe4-4237-4b2c-ab05-859e8557f0bc",
   "metadata": {
    "slideshow": {
     "slide_type": "skip"
    },
    "tags": []
   },
   "outputs": [],
   "source": [
    "# %%bash\n",
    "# This would be neater, but have to hack to suppress the \n",
    "# non-zero exit status from doctest\n",
    "# python -m doctest mfm.py || true\n"
   ]
  },
  {
   "cell_type": "markdown",
   "id": "fc174d06-2ba8-42df-a737-e8a98a1ef9b1",
   "metadata": {
    "slideshow": {
     "slide_type": "subslide"
    },
    "tags": []
   },
   "source": [
    "## The `doctest` package\n",
    "\n",
    "* Adjust the expected value"
   ]
  },
  {
   "cell_type": "code",
   "execution_count": 42,
   "id": "dfdc5536-73e9-4fc1-b627-f41638e821d0",
   "metadata": {},
   "outputs": [],
   "source": [
    "# %load -s my_float_multiplier2 mfm.py\n",
    "def my_float_multiplier2(x: float, y: float) -> float:\n",
    "    \"\"\"Multiplies two floats together.\n",
    "\n",
    "    Arguments:\n",
    "        x: The first number\n",
    "        y: The second number\n",
    "\n",
    "    Examples:\n",
    "        >>> round(my_float_multiplier(2.1, 3.6), 2)\n",
    "        7.56\n",
    "    \"\"\"\n"
   ]
  },
  {
   "cell_type": "markdown",
   "id": "ce33b4dd-a20c-45cd-9fad-a11e91c5a550",
   "metadata": {
    "slideshow": {
     "slide_type": "subslide"
    },
    "tags": []
   },
   "source": [
    "## The `doctest` package\n",
    "\n",
    "* Use `doctest` **directives**"
   ]
  },
  {
   "cell_type": "code",
   "execution_count": 41,
   "id": "0fde5d23-0cb2-49bb-8b7b-299e000f9251",
   "metadata": {},
   "outputs": [],
   "source": [
    "# %load -s my_float_multiplier3 mfm.py\n",
    "def my_float_multiplier3(x: float, y: float) -> float:\n",
    "    \"\"\"Multiplies two floats together.\n",
    "\n",
    "    Arguments:\n",
    "        x: The first number\n",
    "        y: The second number\n",
    "\n",
    "    Examples:\n",
    "        >>> my_float_multiplier(2.1, 3.6) #doctest: +ELLIPSIS\n",
    "        7.56...\n",
    "    \"\"\"\n"
   ]
  },
  {
   "cell_type": "markdown",
   "id": "ece21f3c-c61b-4bb9-9ace-3ac83337d25e",
   "metadata": {
    "slideshow": {
     "slide_type": "subslide"
    },
    "tags": []
   },
   "source": [
    "## The `doctest` package\n",
    "\n",
    "* A more complex example"
   ]
  },
  {
   "cell_type": "code",
   "execution_count": 37,
   "id": "d4b32118-4566-46ef-9388-7b0b0eee6b3b",
   "metadata": {
    "tags": []
   },
   "outputs": [],
   "source": [
    "# %load -s TimesTable mfm.py\n",
    "class TimesTable:\n",
    "    \"\"\"Create times tables for a number.\n",
    "\n",
    "    The TimesTable instance can be used to produce a times\n",
    "    table for a specific number.\n",
    "\n",
    "    Attributes:\n",
    "        num: The base number to use for tables\n",
    "\n",
    "    Args:\n",
    "        num: Sets the `num` attribute\n",
    "\n",
    "    Examples:\n",
    "        >>> seven_tt = TimesTable(num = 7)\n",
    "        >>> seven_tt  # doctest: +ELLIPSIS\n",
    "        <mfm.TimesTable object at 0x...>\n",
    "        >>> seven_tt.num\n",
    "        7\n",
    "    \"\"\"\n",
    "\n",
    "    def __init__(self, num: int) -> None:\n",
    "\n",
    "        self.num = num\n",
    "\n",
    "    def table(self, start: int = 1, stop: int = 10) -> List[int]:\n",
    "        \"\"\"Calculate a table.\n",
    "\n",
    "        Returns a times table for the initialised base number from\n",
    "        start to stop.\n",
    "\n",
    "        Args:\n",
    "            start: Start number for the table\n",
    "            stop: End number for the table\n",
    "\n",
    "        Examples:\n",
    "            >>> seven_tt = TimesTable(num = 7)\n",
    "            >>> seven_tt.table(2,7)\n",
    "            [14, 21, 28, 35, 42, 49]\n",
    "        \"\"\"\n",
    "\n",
    "        return [self.num * v for v in range(start, stop + 1)]\n"
   ]
  },
  {
   "cell_type": "markdown",
   "id": "4bfdab9c-0d2f-47ac-a31c-5e78d5359cd6",
   "metadata": {
    "slideshow": {
     "slide_type": "slide"
    },
    "tags": []
   },
   "source": [
    "## The `doctest` package\n",
    "\n",
    "* Invaluable for maintaining documentation quality\n",
    "* Spot checks on code function\n",
    "* Limited to relatively simple uses\n",
    "* Tests for each docstring run **independently**"
   ]
  },
  {
   "cell_type": "markdown",
   "id": "05399983-6d06-42ff-b374-68fe490b53a1",
   "metadata": {
    "slideshow": {
     "slide_type": "slide"
    },
    "tags": []
   },
   "source": [
    "## The `pytest` framework\n",
    "\n",
    "* The main testing framework\n",
    "* Much more powerful, also more complex!\n",
    "* Tests in a separate directory\n",
    "* Running `pytest` automatically finds tests in files and runs them\n"
   ]
  },
  {
   "cell_type": "markdown",
   "id": "5646dea9-1b16-4471-8499-a8ccfbdc84e1",
   "metadata": {
    "slideshow": {
     "slide_type": "subslide"
    },
    "tags": []
   },
   "source": [
    "## The `pytest` framework\n",
    "\n",
    "* Directory structure:\n",
    "    * A separate directory in the package root (`test`)\n",
    "    * Can contain subfolders (e.g. grouped by package module)\n",
    "    * Contains test files: `test_xyz.py`\n",
    "* Test files contain: \n",
    "    * classes (e.g. `TestClass`)\n",
    "    * functions (e.g. `test_function`)\n",
    "\n"
   ]
  },
  {
   "cell_type": "markdown",
   "id": "e26774dd-eb5f-4f93-aac9-c8c3a7505433",
   "metadata": {
    "slideshow": {
     "slide_type": "subslide"
    },
    "tags": []
   },
   "source": [
    "## A `pytest` test\n",
    "\n",
    "* A really simple example\n",
    "* A function that runs a bit of code\n",
    "* And **`asserts`** that the output equals a value"
   ]
  },
  {
   "cell_type": "code",
   "execution_count": 47,
   "id": "58a1a109-93f4-4641-8f29-5698ee3b556b",
   "metadata": {},
   "outputs": [],
   "source": [
    "# %load -s test_my_float_multiplier test_mfm.py\n",
    "def test_my_float_multiplier():\n",
    "    \n",
    "    assert 10 == my_float_multiplier(2,5)\n"
   ]
  },
  {
   "cell_type": "markdown",
   "id": "c0c77174-d45a-424b-bfef-77420a3fc376",
   "metadata": {
    "slideshow": {
     "slide_type": "subslide"
    },
    "tags": []
   },
   "source": [
    "## Testing failure modes\n",
    "\n",
    "* A more picky function"
   ]
  },
  {
   "cell_type": "code",
   "execution_count": 51,
   "id": "464e6644-e738-4426-8bea-a2770cef274e",
   "metadata": {},
   "outputs": [],
   "source": [
    "# %load -s my_picky_float_multiplier mfm.py\n",
    "def my_picky_float_multiplier(x: float, y: float) -> float:\n",
    "    \"\"\"Multiplies two floats together.\n",
    "\n",
    "    Arguments:\n",
    "        x: The first number\n",
    "        y: The second number\n",
    "\n",
    "    Examples:\n",
    "        >>> my_float_multiplier3(2.1, 3.6) #doctest: +ELLIPSIS\n",
    "        7.56...\n",
    "    \"\"\"\n",
    "\n",
    "    if not (isinstance(x, float) and isinstance(y, float)):\n",
    "        raise ValueError('Both x and y must be of type float')\n",
    "    \n",
    "    return x * y\n"
   ]
  },
  {
   "cell_type": "markdown",
   "id": "612b83a0-0a47-4b54-bb32-fe61922bb9a8",
   "metadata": {
    "slideshow": {
     "slide_type": "subslide"
    },
    "tags": []
   },
   "source": [
    "## Testing failure modes\n",
    "\n",
    "* Use the `pytest.raises` context manager\n",
    "* Traps exceptions\n",
    "* Makes sure the exception is the right type"
   ]
  },
  {
   "cell_type": "code",
   "execution_count": 53,
   "id": "77b8ced7-4c1c-4b98-8ff9-cbf281d0db0f",
   "metadata": {},
   "outputs": [],
   "source": [
    "# %load -s test_my_picky_float_multiplier test_mfm.py\n",
    "def test_my_picky_float_multiplier():\n",
    "    \n",
    "    with pytest.raises(ValueError) as err_hndlr:\n",
    "        \n",
    "         x = my_picky_float_multiplier(2,5)\n",
    "            \n",
    "    assert str(err_hndlr.value) == \"Both x and y must be of type float\"\n"
   ]
  },
  {
   "cell_type": "code",
   "execution_count": 84,
   "id": "7098a272-0f06-46da-84bd-12dbd7b09706",
   "metadata": {
    "slideshow": {
     "slide_type": "subslide"
    },
    "tags": []
   },
   "outputs": [
    {
     "name": "stdout",
     "output_type": "stream",
     "text": [
      "============================= test session starts ==============================\n",
      "platform darwin -- Python 3.7.7, pytest-6.1.2, py-1.9.0, pluggy-0.13.1 -- /Users/dorme/.pyenv/versions/3.7.7/bin/python3.7\n",
      "cachedir: .pytest_cache\n",
      "rootdir: /Users/dorme/Research/Virtual_Rainforest/virtual_rainforest/source/development/training\n",
      "plugins: anyio-3.6.1, pyfakefs-4.5.3, typeguard-2.13.3\n",
      "collecting ... collected 3 items\n",
      "\n",
      "test_mfm.py::test_fm PASSED                                              [ 33%]\n",
      "test_mfm.py::test_pfm PASSED                                             [ 66%]\n",
      "test_mfm.py::test_pfm_fail FAILED                                        [100%]\n",
      "\n",
      "=================================== FAILURES ===================================\n",
      "________________________________ test_pfm_fail _________________________________\n",
      "\n",
      "    def test_pfm_fail():\n",
      "    \n",
      "        with pytest.raises(ValueError) as err_hndlr:\n",
      "    \n",
      ">           x = my_picky_float_multiplier(2.0, 5.0)\n",
      "E           Failed: DID NOT RAISE <class 'ValueError'>\n",
      "\n",
      "test_mfm.py:26: Failed\n",
      "=========================== short test summary info ============================\n",
      "FAILED test_mfm.py::test_pfm_fail - Failed: DID NOT RAISE <class 'ValueError'>\n",
      "========================= 1 failed, 2 passed in 0.03s ==========================\n"
     ]
    }
   ],
   "source": [
    "%%bash\n",
    "pytest -v test_mfm.py::test_fm test_mfm.py::test_pfm test_mfm.py::test_pfm_fail || true"
   ]
  },
  {
   "cell_type": "markdown",
   "id": "8a08934f-eedf-4cde-8511-c716c39ae1a9",
   "metadata": {
    "slideshow": {
     "slide_type": "subslide"
    },
    "tags": []
   },
   "source": [
    "## Parameterization\n",
    "\n",
    "* Reuse the same test function\n",
    "* Test different input values"
   ]
  },
  {
   "cell_type": "code",
   "execution_count": 75,
   "id": "a6116efe-47d4-4c1f-92d9-fa3a128de833",
   "metadata": {},
   "outputs": [],
   "source": [
    "# %load -r 3,22-33 test_mfm.py\n",
    "import pytest\n",
    "@pytest.mark.parametrize(\n",
    "    argnames=[\"x\", \"y\", \"expected\"],\n",
    "    argvalues=[\n",
    "        (1.0, 3.0, 3.0),\n",
    "        (1.5, -3.0, -4.5),\n",
    "        (-1.5, 3.0, -4.5),\n",
    "        (-1.5, -3.0, 4.5),\n",
    "    ],\n",
    ")\n",
    "def test_pfm_param_noid(x, y, expected):\n",
    "\n",
    "    assert expected == my_picky_float_multiplier(x, y)"
   ]
  },
  {
   "cell_type": "markdown",
   "id": "dce9fb5f-64c9-40c2-a7e4-6ccfcef7f403",
   "metadata": {
    "slideshow": {
     "slide_type": "subslide"
    },
    "tags": []
   },
   "source": [
    "# Running `pytest`\n"
   ]
  },
  {
   "cell_type": "code",
   "execution_count": 71,
   "id": "ff5b95c0-27ea-4b28-86ea-8ef2afb2d36d",
   "metadata": {
    "jupyter": {
     "source_hidden": true
    },
    "tags": []
   },
   "outputs": [
    {
     "name": "stdout",
     "output_type": "stream",
     "text": [
      "============================= test session starts ==============================\n",
      "platform darwin -- Python 3.7.7, pytest-6.1.2, py-1.9.0, pluggy-0.13.1 -- /Users/dorme/.pyenv/versions/3.7.7/bin/python3.7\n",
      "cachedir: .pytest_cache\n",
      "rootdir: /Users/dorme/Research/Virtual_Rainforest/virtual_rainforest/source/development/training\n",
      "plugins: anyio-3.6.1, pyfakefs-4.5.3, typeguard-2.13.3\n",
      "collecting ... collected 10 items / 4 deselected / 6 selected\n",
      "\n",
      "test_mfm.py::test_fm PASSED                                              [ 16%]\n",
      "test_mfm.py::test_pfm PASSED                                             [ 33%]\n",
      "test_mfm.py::test_pfm_param_noid[1.0-3.0-3.0] PASSED                     [ 50%]\n",
      "test_mfm.py::test_pfm_param_noid[1.5--3.0--4.5] PASSED                   [ 66%]\n",
      "test_mfm.py::test_pfm_param_noid[-1.5-3.0--4.5] PASSED                   [ 83%]\n",
      "test_mfm.py::test_pfm_param_noid[-1.5--3.0-4.5] PASSED                   [100%]\n",
      "\n",
      "======================= 6 passed, 4 deselected in 0.02s ========================\n"
     ]
    }
   ],
   "source": [
    "%%bash\n",
    "pytest -v -k \"not ids\""
   ]
  },
  {
   "cell_type": "markdown",
   "id": "4c921b9f-b9d2-463e-b18b-fafb0bd35019",
   "metadata": {
    "slideshow": {
     "slide_type": "subslide"
    },
    "tags": []
   },
   "source": [
    "## Parameterization: test ids\n",
    "\n",
    "* Adds a label for each parameterized test"
   ]
  },
  {
   "cell_type": "code",
   "execution_count": 80,
   "id": "502f79c7-c64d-4ad9-8c9f-eacd003cc1c5",
   "metadata": {},
   "outputs": [],
   "source": [
    "# %load -r 36-48 test_mfm.py\n",
    "@pytest.mark.parametrize(\n",
    "    argnames=[\"x\", \"y\", \"expected\"],\n",
    "    argvalues=[\n",
    "        (1.0, 3.0, 3.0),\n",
    "        (1.5, -3.0, -4.5),\n",
    "        (-1.5, 3.0, -4.5),\n",
    "        (-1.5, -3.0, 4.5),\n",
    "    ],\n",
    "    ids=[\"++\", \"-+\", \"+-\", \"--\"],\n",
    ")\n",
    "def test_pfm_param_ids(x, y, expected):\n",
    "\n",
    "    assert expected == my_picky_float_multiplier(x, y)"
   ]
  },
  {
   "cell_type": "markdown",
   "id": "2db52606-da2e-49c1-baec-627476788c05",
   "metadata": {
    "slideshow": {
     "slide_type": "subslide"
    },
    "tags": []
   },
   "source": [
    "# Running `pytest`\n"
   ]
  },
  {
   "cell_type": "code",
   "execution_count": 79,
   "id": "b5f79f3e-653d-4ce3-a9fb-aa976f2cb381",
   "metadata": {},
   "outputs": [
    {
     "name": "stdout",
     "output_type": "stream",
     "text": [
      "============================= test session starts ==============================\n",
      "platform darwin -- Python 3.7.7, pytest-6.1.2, py-1.9.0, pluggy-0.13.1 -- /Users/dorme/.pyenv/versions/3.7.7/bin/python3.7\n",
      "cachedir: .pytest_cache\n",
      "rootdir: /Users/dorme/Research/Virtual_Rainforest/virtual_rainforest/source/development/training\n",
      "plugins: anyio-3.6.1, pyfakefs-4.5.3, typeguard-2.13.3\n",
      "collecting ... collected 10 items / 4 deselected / 6 selected\n",
      "\n",
      "test_mfm.py::test_fm PASSED                                              [ 16%]\n",
      "test_mfm.py::test_pfm PASSED                                             [ 33%]\n",
      "test_mfm.py::test_pfm_param_ids[++] PASSED                               [ 50%]\n",
      "test_mfm.py::test_pfm_param_ids[-+] PASSED                               [ 66%]\n",
      "test_mfm.py::test_pfm_param_ids[+-] PASSED                               [ 83%]\n",
      "test_mfm.py::test_pfm_param_ids[--] PASSED                               [100%]\n",
      "\n",
      "======================= 6 passed, 4 deselected in 0.02s ========================\n"
     ]
    }
   ],
   "source": [
    "%%bash\n",
    "pytest -v -k \"not noid\""
   ]
  },
  {
   "cell_type": "markdown",
   "id": "a107edb4-fad0-4682-bdd9-1e3c0a3811c1",
   "metadata": {
    "slideshow": {
     "slide_type": "slide"
    },
    "tags": []
   },
   "source": [
    "## Fixtures\n",
    "\n",
    "* Reusable bits of code shared between tests\n",
    "* Modular desi"
   ]
  }
 ],
 "metadata": {
  "kernelspec": {
   "display_name": "Python 3",
   "language": "python",
   "name": "python3"
  },
  "language_info": {
   "codemirror_mode": {
    "name": "ipython",
    "version": 3
   },
   "file_extension": ".py",
   "mimetype": "text/x-python",
   "name": "python",
   "nbconvert_exporter": "python",
   "pygments_lexer": "ipython3",
   "version": "3.7.7"
  }
 },
 "nbformat": 4,
 "nbformat_minor": 5
}
