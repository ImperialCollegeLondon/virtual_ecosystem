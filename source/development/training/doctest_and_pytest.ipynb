{
 "cells": [
  {
   "cell_type": "markdown",
   "id": "b228982a-6f97-432a-b4fa-51e7a41dacfc",
   "metadata": {
    "slideshow": {
     "slide_type": "slide"
    },
    "tags": []
   },
   "source": [
    "# Code Testing with `pytest` and `doctest`\n",
    "\n",
    "David Orme"
   ]
  },
  {
   "cell_type": "code",
   "execution_count": 11,
   "id": "d4880b50-b68c-46ca-9bfa-184215e888c7",
   "metadata": {
    "slideshow": {
     "slide_type": "skip"
    },
    "tags": []
   },
   "outputs": [],
   "source": [
    "# Load packages used in loaded code examples\n",
    "# This code is skipped in the slides\n",
    "import pytest\n",
    "from typing import List"
   ]
  },
  {
   "cell_type": "markdown",
   "id": "3a2f30c6-cf14-49cd-8dea-3caff88adc5d",
   "metadata": {
    "slideshow": {
     "slide_type": "slide"
    },
    "tags": []
   },
   "source": [
    "## What is code testing?\n",
    "\n",
    "* How do you know your code does what it claims to do?\n",
    "    * \"Well, that's what I wrote it to do\"\n",
    "    * \"Well, if I give it this inputs it does this, **as expected**\"\n",
    "* Testing frameworks allow us to:\n",
    "    * Give inputs to code \n",
    "    * Check that it does what is expected\n",
    "    * Repeatably and easily\n",
    "    * A vital part of **continuous integration**"
   ]
  },
  {
   "cell_type": "markdown",
   "id": "68c038ba-58b2-44d1-82ef-59f67007b320",
   "metadata": {
    "slideshow": {
     "slide_type": "subslide"
    },
    "tags": []
   },
   "source": [
    "## Continuous integration\n",
    "\n",
    "* Code from a team is pushed into `develop` regularly.\n",
    "* Need to be aware of **breaking changes**:\n",
    "    * Updated algorithm gives different answers\n",
    "    * Updated code takes different arguments\n",
    "* Code testing helps catch breaking changes:\n",
    "    * Catch and fix code errors\n",
    "    * Need to release new **major version**"
   ]
  },
  {
   "cell_type": "markdown",
   "id": "dc23fe4f-4e10-429b-a3db-b83d32575bf4",
   "metadata": {
    "slideshow": {
     "slide_type": "subslide"
    },
    "tags": []
   },
   "source": [
    "## Semantic versioning\n",
    "\n",
    "* Strict rules for version numbers\n",
    "    * https://semver.org/\n",
    "    * https://github.com/semver/semver\n",
    "* With MAJOR.MINOR.PATCH, increment the:\n",
    "    * MAJOR version when you make incompatible API changes,\n",
    "    * MINOR version when you add functionality in a backwards compatible manner, and\n",
    "    * PATCH version when you make backwards compatible bug fixes.\n",
    "\n"
   ]
  },
  {
   "cell_type": "markdown",
   "id": "0dc1b7cf-d4c8-4766-902a-73829ba02985",
   "metadata": {
    "slideshow": {
     "slide_type": "subslide"
    },
    "tags": []
   },
   "source": [
    "## What should tests be?\n",
    "\n",
    "* Pieces of code\n",
    "* Expected outcomes of running code\n",
    "* Individually small in scope\n",
    "* Not just testing the **right answer**\n",
    "* Test failure modes\n",
    "* Quick to run"
   ]
  },
  {
   "cell_type": "markdown",
   "id": "6ad6a035-2582-4e3e-8bb6-b0d43d4ee1da",
   "metadata": {
    "slideshow": {
     "slide_type": "subslide"
    },
    "tags": []
   },
   "source": [
    "## Frameworks\n",
    "\n",
    "* Lots of options, including:\n",
    "    * [The `pytest` extension](https://docs.pytest.org/)\n",
    "    * [The `doctest` standard library](https://docs.python.org/3/library/doctest.html)\n",
    "    * [The `unittest` standard library](https://docs.python.org/3/library/unittest.html)\n",
    "    * [The `nose` extension](https://nose.readthedocs.io/en/latest/)"
   ]
  },
  {
   "cell_type": "markdown",
   "id": "ca70b749-7aab-4db9-a27f-1ab6c9aee16b",
   "metadata": {
    "slideshow": {
     "slide_type": "slide"
    },
    "tags": []
   },
   "source": [
    "## The `doctest` package\n",
    "\n",
    "* The **docstrings** for code often includes example use\n",
    "* The `doctest` package runs those examples\n",
    "* Check if documented example code is **correct**\n",
    "    * Looks for inputs (`>>>`, `...`) and output\n",
    "    * Typically simple, self-contained tests\n",
    "    * **Exact match** to expected output\n",
    "    * Look out for whitespace at the ends of lines!\n"
   ]
  },
  {
   "cell_type": "markdown",
   "id": "44454d36-408d-4481-a17a-4fa8fe01d51c",
   "metadata": {
    "slideshow": {
     "slide_type": "subslide"
    },
    "tags": []
   },
   "source": [
    "## The `doctest` package"
   ]
  },
  {
   "cell_type": "code",
   "execution_count": 12,
   "id": "5db8aa20-1ca2-43c8-b838-9926d008b735",
   "metadata": {},
   "outputs": [],
   "source": [
    "# %load -s my_float_multiplier mfm.py\n",
    "def my_float_multiplier(x: float, y: float) -> float:\n",
    "    \"\"\"Multiplies two floats together.\n",
    "\n",
    "    Arguments:\n",
    "        x: The first number\n",
    "        y: The second number\n",
    "\n",
    "    Examples:\n",
    "        >>> my_float_multiplier(2.1, 3.6)\n",
    "        7.56\n",
    "    \"\"\"\n",
    "\n",
    "    return x * y\n"
   ]
  },
  {
   "cell_type": "markdown",
   "id": "48ea5a09-5681-42b7-912f-c2333405c824",
   "metadata": {
    "slideshow": {
     "slide_type": "subslide"
    },
    "tags": []
   },
   "source": [
    "## The `doctest` package\n"
   ]
  },
  {
   "cell_type": "code",
   "execution_count": 13,
   "id": "91ff8fe4-4237-4b2c-ab05-859e8557f0bc",
   "metadata": {
    "slideshow": {
     "slide_type": "skip"
    },
    "tags": []
   },
   "outputs": [
    {
     "name": "stdout",
     "output_type": "stream",
     "text": [
      "**********************************************************************\n",
      "File \"/Users/dorme/Research/Virtual_Rainforest/virtual_rainforest/source/development/training/mfm.py\", line 19, in NoName\n",
      "Failed example:\n",
      "    my_float_multiplier(2.1, 3.6)\n",
      "Expected:\n",
      "    7.56\n",
      "Got:\n",
      "    7.5600000000000005\n"
     ]
    }
   ],
   "source": [
    "%%bash\n",
    "doctestfn mfm.py my_float_multiplier\n"
   ]
  },
  {
   "cell_type": "markdown",
   "id": "fc174d06-2ba8-42df-a737-e8a98a1ef9b1",
   "metadata": {
    "slideshow": {
     "slide_type": "subslide"
    },
    "tags": []
   },
   "source": [
    "## The `doctest` package\n",
    "\n",
    "* Adjust the expected value"
   ]
  },
  {
   "cell_type": "code",
   "execution_count": 14,
   "id": "dfdc5536-73e9-4fc1-b627-f41638e821d0",
   "metadata": {},
   "outputs": [],
   "source": [
    "# %load -s my_float_multiplier2 mfm.py\n",
    "def my_float_multiplier2(x: float, y: float) -> float:\n",
    "    \"\"\"Multiplies two floats together.\n",
    "\n",
    "    Arguments:\n",
    "        x: The first number\n",
    "        y: The second number\n",
    "\n",
    "    Examples:\n",
    "        >>> round(my_float_multiplier2(2.1, 3.6), 2)\n",
    "        7.56\n",
    "    \"\"\"\n",
    "    \n",
    "    return x * y\n"
   ]
  },
  {
   "cell_type": "markdown",
   "id": "ce33b4dd-a20c-45cd-9fad-a11e91c5a550",
   "metadata": {
    "slideshow": {
     "slide_type": "subslide"
    },
    "tags": []
   },
   "source": [
    "## The `doctest` package\n",
    "\n",
    "* Use `doctest` **directives**"
   ]
  },
  {
   "cell_type": "code",
   "execution_count": 15,
   "id": "0fde5d23-0cb2-49bb-8b7b-299e000f9251",
   "metadata": {},
   "outputs": [],
   "source": [
    "# %load -s my_float_multiplier3 mfm.py\n",
    "def my_float_multiplier3(x: float, y: float) -> float:\n",
    "    \"\"\"Multiplies two floats together.\n",
    "\n",
    "    Arguments:\n",
    "        x: The first number\n",
    "        y: The second number\n",
    "\n",
    "    Examples:\n",
    "        >>> my_float_multiplier3(2.1, 3.6) #doctest: +ELLIPSIS\n",
    "        7.56...\n",
    "    \"\"\"\n",
    "\n",
    "    return x * y\n"
   ]
  },
  {
   "cell_type": "markdown",
   "id": "d74ddb78-db1a-4dc6-9215-f048f66f4241",
   "metadata": {
    "slideshow": {
     "slide_type": "subslide"
    },
    "tags": []
   },
   "source": [
    "## The `doctest` package\n",
    "\n",
    "* Can have more than one example\n",
    "* Checking error conditions\n",
    "* Can wrap input lines using `...`"
   ]
  },
  {
   "cell_type": "code",
   "execution_count": 16,
   "id": "9fb71dc0-762d-44d4-b773-a70fe5f333e5",
   "metadata": {},
   "outputs": [],
   "source": [
    "# %load -s my_picky_float_multiplier mfm.py\n",
    "def my_picky_float_multiplier(x: float, y: float) -> float:\n",
    "    \"\"\"Multiplies two floats together.\n",
    "\n",
    "    Arguments:\n",
    "        x: The first number\n",
    "        y: The second number\n",
    "\n",
    "    Examples:\n",
    "        >>> my_float_multiplier3(2.1, 3.6)  # doctest: +ELLIPSIS\n",
    "        7.56...\n",
    "        >>> my_picky_float_multiplier_doctest(2, 3)  \n",
    "        ... # doctest: +ELLIPSIS\n",
    "        Traceback (most recent call last):\n",
    "          ...\n",
    "        ValueError: Both x and y must be of type float\n",
    "    \"\"\"\n",
    "\n",
    "    if not (isinstance(x, float) and isinstance(y, float)):\n",
    "        raise ValueError('Both x and y must be of type float')\n",
    "    \n",
    "    return x * y\n"
   ]
  },
  {
   "cell_type": "markdown",
   "id": "ece21f3c-c61b-4bb9-9ace-3ac83337d25e",
   "metadata": {
    "slideshow": {
     "slide_type": "subslide"
    },
    "tags": []
   },
   "source": [
    "## The `doctest` package\n",
    "\n",
    "* Can include 'setup' lines within a docstring."
   ]
  },
  {
   "cell_type": "code",
   "execution_count": 17,
   "id": "d4b32118-4566-46ef-9388-7b0b0eee6b3b",
   "metadata": {
    "tags": []
   },
   "outputs": [],
   "source": [
    "# %load -s TimesTable mfm.py\n",
    "class TimesTable:\n",
    "    \"\"\"Create times tables for a number.\n",
    "\n",
    "    The TimesTable instance can be used to produce a times\n",
    "    table for a specific number.\n",
    "\n",
    "    Attributes:\n",
    "        num: The base number to use for tables\n",
    "\n",
    "    Args:\n",
    "        num: Sets the `num` attribute\n",
    "\n",
    "    Examples:\n",
    "        >>> seven_tt = TimesTable(num = 7)\n",
    "        >>> seven_tt  # doctest: +ELLIPSIS\n",
    "        <mfm.TimesTable object at 0x...>\n",
    "        >>> seven_tt.num\n",
    "        7\n",
    "    \"\"\"\n",
    "\n",
    "    def __init__(self, num: int) -> None:\n",
    "\n",
    "        self.num = num\n",
    "\n",
    "    def table(self, start: int = 1, stop: int = 10) -> List[int]:\n",
    "        \"\"\"Calculate a table.\n",
    "\n",
    "        Returns a times table for the initialised base number from\n",
    "        start to stop.\n",
    "\n",
    "        Args:\n",
    "            start: Start number for the table\n",
    "            stop: End number for the table\n",
    "\n",
    "        Examples:\n",
    "            >>> seven_tt = TimesTable(num = 7)\n",
    "            >>> seven_tt.table(2,7)\n",
    "            [14, 21, 28, 35, 42, 49]\n",
    "        \"\"\"\n",
    "\n",
    "        return [self.num * v for v in range(start, stop + 1)]\n"
   ]
  },
  {
   "cell_type": "markdown",
   "id": "6d360023-bd89-4975-a4ef-923f88f75239",
   "metadata": {
    "slideshow": {
     "slide_type": "subslide"
    },
    "tags": []
   },
   "source": [
    "## Running `doctest`\n",
    "\n",
    "* Use `python -m doctest filename.py`\n",
    "* Or `python -m doctest folder/*.py`\n",
    "* Can use `python -m doctest -v filename.py` for **verbose** information"
   ]
  },
  {
   "cell_type": "code",
   "execution_count": 25,
   "id": "fa2dba5c-1ddf-4e4e-a370-99e1ec2a6df7",
   "metadata": {},
   "outputs": [
    {
     "name": "stdout",
     "output_type": "stream",
     "text": [
      "Trying:\n",
      "    seven_tt = TimesTable(num = 7)\n",
      "Expecting nothing\n",
      "ok\n",
      "Trying:\n",
      "    seven_tt  # doctest: +ELLIPSIS\n",
      "Expecting:\n",
      "    <mfm.TimesTable object at 0x...>\n",
      "ok\n",
      "Trying:\n",
      "    seven_tt.num\n",
      "Expecting:\n",
      "    7\n",
      "ok\n",
      "Trying:\n",
      "    seven_tt = TimesTable(num = 7)\n",
      "Expecting nothing\n",
      "ok\n",
      "Trying:\n",
      "    seven_tt.table(2,7)\n",
      "Expecting:\n",
      "    [14, 21, 28, 35, 42, 49]\n",
      "ok\n",
      "Trying:\n",
      "    my_float_multiplier(2.1, 3.6)\n",
      "Expecting:\n",
      "    7.56\n",
      "**********************************************************************\n",
      "File \"/Users/dorme/Research/Virtual_Rainforest/virtual_rainforest/source/development/training/mfm.py\", line 19, in mfm.my_float_multiplier\n",
      "Failed example:\n",
      "    my_float_multiplier(2.1, 3.6)\n",
      "Expected:\n",
      "    7.56\n",
      "Got:\n",
      "    7.5600000000000005\n",
      "Trying:\n",
      "    round(my_float_multiplier2(2.1, 3.6), 2)\n",
      "Expecting:\n",
      "    7.56\n",
      "ok\n",
      "Trying:\n",
      "    my_float_multiplier3(2.1, 3.6) #doctest: +ELLIPSIS\n",
      "Expecting:\n",
      "    7.56...\n",
      "ok\n",
      "Trying:\n",
      "    my_float_multiplier3(2.1, 3.6)  # doctest: +ELLIPSIS\n",
      "Expecting:\n",
      "    7.56...\n",
      "ok\n",
      "Trying:\n",
      "    my_picky_float_multiplier(2, 3)  \n",
      "    # doctest: +ELLIPSIS\n",
      "Expecting:\n",
      "    Traceback (most recent call last):\n",
      "      ...\n",
      "    ValueError: Both x and y must be of type float\n",
      "ok\n",
      "2 items had no tests:\n",
      "    mfm\n",
      "    mfm.TimesTable.__init__\n",
      "5 items passed all tests:\n",
      "   3 tests in mfm.TimesTable\n",
      "   2 tests in mfm.TimesTable.table\n",
      "   1 tests in mfm.my_float_multiplier2\n",
      "   1 tests in mfm.my_float_multiplier3\n",
      "   2 tests in mfm.my_picky_float_multiplier\n",
      "**********************************************************************\n",
      "1 items had failures:\n",
      "   1 of   1 in mfm.my_float_multiplier\n",
      "10 tests in 8 items.\n",
      "9 passed and 1 failed.\n",
      "***Test Failed*** 1 failures.\n"
     ]
    }
   ],
   "source": [
    "%%bash\n",
    "python -m doctest -v mfm.py || true"
   ]
  },
  {
   "cell_type": "markdown",
   "id": "4bfdab9c-0d2f-47ac-a31c-5e78d5359cd6",
   "metadata": {
    "jp-MarkdownHeadingCollapsed": true,
    "slideshow": {
     "slide_type": "subslide"
    },
    "tags": []
   },
   "source": [
    "## The `doctest` package: summary\n",
    "\n",
    "* Invaluable for maintaining documentation quality\n",
    "* Spot checks on code function\n",
    "* Limited to relatively simple uses\n",
    "* Tests for each docstring run **independently** and cannot share information\n"
   ]
  },
  {
   "cell_type": "markdown",
   "id": "578be4dc-25a9-4340-b8a4-9cd8537e2fbc",
   "metadata": {
    "jp-MarkdownHeadingCollapsed": true,
    "slideshow": {
     "slide_type": "subslide"
    },
    "tags": []
   },
   "source": [
    "## Using `doctest`\n",
    "\n",
    "* Open VS Code\n",
    "* Use File > Open Folder to open your cloned Virtual Rainforest repo\n",
    "* Use Terminal > New Terminal to get a command line terminal\n",
    "* In the Terminal, enter `git checkout testing_training`\n",
    "* In the File Explorer (icon column on left) open `my_module.py`\n",
    "* Use the TODO tree (icon column on left) to check off tasks\n",
    "* Use `python -m doctest my_module.py` to check progress!\n"
   ]
  },
  {
   "cell_type": "markdown",
   "id": "05399983-6d06-42ff-b374-68fe490b53a1",
   "metadata": {
    "slideshow": {
     "slide_type": "slide"
    },
    "tags": []
   },
   "source": [
    "## The `pytest` framework\n",
    "\n",
    "* The main testing framework\n",
    "* Much more powerful, also more complex!\n",
    "* Tests in separate files or directories\n",
    "* Running `pytest` automatically finds tests in files and runs them\n"
   ]
  },
  {
   "cell_type": "markdown",
   "id": "5646dea9-1b16-4471-8499-a8ccfbdc84e1",
   "metadata": {
    "slideshow": {
     "slide_type": "subslide"
    },
    "tags": []
   },
   "source": [
    "## The `pytest` framework\n",
    "\n",
    "* Typical package test structure:\n",
    "    * A separate directory in the package root (`test`)\n",
    "    * Can contain subfolders (e.g. grouped by package module)\n",
    "    * Contains test files: `test_xyz.py`\n",
    "* Tests within files identified by name: \n",
    "    * classes (e.g. `TestClass`)\n",
    "    * functions (e.g. `test_function`)\n"
   ]
  },
  {
   "cell_type": "markdown",
   "id": "e26774dd-eb5f-4f93-aac9-c8c3a7505433",
   "metadata": {
    "slideshow": {
     "slide_type": "subslide"
    },
    "tags": []
   },
   "source": [
    "## A `pytest` test\n",
    "\n",
    "* A really simple example\n",
    "* A function that runs a bit of code\n",
    "* And **`asserts`** that the output equals a value"
   ]
  },
  {
   "cell_type": "code",
   "execution_count": 27,
   "id": "58a1a109-93f4-4641-8f29-5698ee3b556b",
   "metadata": {},
   "outputs": [],
   "source": [
    "# %load -s test_fm test_mfm.py\n",
    "def test_fm():\n",
    "\n",
    "    assert 10 == my_float_multiplier(2, 5)\n"
   ]
  },
  {
   "cell_type": "markdown",
   "id": "c0c77174-d45a-424b-bfef-77420a3fc376",
   "metadata": {
    "slideshow": {
     "slide_type": "subslide"
    },
    "tags": []
   },
   "source": [
    "## Testing failure modes\n",
    "\n",
    "* A more picky function"
   ]
  },
  {
   "cell_type": "code",
   "execution_count": 29,
   "id": "464e6644-e738-4426-8bea-a2770cef274e",
   "metadata": {},
   "outputs": [],
   "source": [
    "# %load -s my_picky_float_multiplier mfm.py\n",
    "def my_picky_float_multiplier(x: float, y: float) -> float:\n",
    "    \"\"\"Multiplies two floats together.\n",
    "\n",
    "    Arguments:\n",
    "        x: The first number\n",
    "        y: The second number\n",
    "\n",
    "    Examples:\n",
    "        >>> my_float_multiplier3(2.1, 3.6)  # doctest: +ELLIPSIS\n",
    "        7.56...\n",
    "        >>> my_picky_float_multiplier(2, 3)  \n",
    "        ... # doctest: +ELLIPSIS\n",
    "        Traceback (most recent call last):\n",
    "          ...\n",
    "        ValueError: Both x and y must be of type float\n",
    "    \"\"\"\n",
    "\n",
    "    if not (isinstance(x, float) and isinstance(y, float)):\n",
    "        raise ValueError('Both x and y must be of type float')\n",
    "    \n",
    "    return x * y\n"
   ]
  },
  {
   "cell_type": "markdown",
   "id": "612b83a0-0a47-4b54-bb32-fe61922bb9a8",
   "metadata": {
    "slideshow": {
     "slide_type": "subslide"
    },
    "tags": []
   },
   "source": [
    "## Testing exceptions\n",
    "\n",
    "* Use the `pytest.raises` context manager\n",
    "* Traps exceptions\n",
    "* Makes sure the exception is the right type"
   ]
  },
  {
   "cell_type": "code",
   "execution_count": 30,
   "id": "77b8ced7-4c1c-4b98-8ff9-cbf281d0db0f",
   "metadata": {},
   "outputs": [],
   "source": [
    "# %load -s test_pfm test_mfm.py\n",
    "def test_pfm():\n",
    "\n",
    "    with pytest.raises(ValueError) as err_hndlr:\n",
    "\n",
    "        x = my_picky_float_multiplier(2, 5)\n",
    "\n",
    "    assert str(err_hndlr.value) == \"Both x and y must be of type float\"\n"
   ]
  },
  {
   "cell_type": "markdown",
   "id": "6669e66d-addb-426d-91bc-e891be667e96",
   "metadata": {
    "slideshow": {
     "slide_type": "subslide"
    },
    "tags": []
   },
   "source": [
    "## Running tests\n",
    "\n",
    "* Use `pytest`!\n",
    "* Can use `pytest filename` or `filename filename::testname``."
   ]
  },
  {
   "cell_type": "code",
   "execution_count": 33,
   "id": "7098a272-0f06-46da-84bd-12dbd7b09706",
   "metadata": {
    "tags": []
   },
   "outputs": [
    {
     "name": "stdout",
     "output_type": "stream",
     "text": [
      "============================= test session starts ==============================\n",
      "platform darwin -- Python 3.7.7, pytest-6.1.2, py-1.9.0, pluggy-0.13.1 -- /Users/dorme/.pyenv/versions/3.7.7/bin/python3.7\n",
      "cachedir: .pytest_cache\n",
      "rootdir: /Users/dorme/Research/Virtual_Rainforest/virtual_rainforest/source/development/training\n",
      "plugins: anyio-3.6.1, pyfakefs-4.5.3, typeguard-2.13.3\n",
      "collecting ... collected 2 items\n",
      "\n",
      "test_mfm.py::test_fm PASSED                                              [ 50%]\n",
      "test_mfm.py::test_pfm PASSED                                             [100%]\n",
      "\n",
      "============================== 2 passed in 0.01s ===============================\n"
     ]
    }
   ],
   "source": [
    "%%bash\n",
    "pytest -v test_mfm.py::test_fm test_mfm.py::test_pfm"
   ]
  },
  {
   "cell_type": "markdown",
   "id": "383d420e-9253-45b3-9668-bf90312197cf",
   "metadata": {
    "slideshow": {
     "slide_type": "subslide"
    },
    "tags": []
   },
   "source": [
    "## When tests go bad"
   ]
  },
  {
   "cell_type": "code",
   "execution_count": 36,
   "id": "87b0afa3-f31a-4f96-a8e8-8d7005daca32",
   "metadata": {},
   "outputs": [
    {
     "name": "stdout",
     "output_type": "stream",
     "text": [
      "============================= test session starts ==============================\n",
      "platform darwin -- Python 3.7.7, pytest-6.1.2, py-1.9.0, pluggy-0.13.1\n",
      "rootdir: /Users/dorme/Research/Virtual_Rainforest/virtual_rainforest/source/development/training\n",
      "plugins: anyio-3.6.1, pyfakefs-4.5.3, typeguard-2.13.3\n",
      "collected 1 item\n",
      "\n",
      "test_mfm.py F                                                            [100%]\n",
      "\n",
      "=================================== FAILURES ===================================\n",
      "________________________________ test_pfm_fail _________________________________\n",
      "\n",
      "    def test_pfm_fail():\n",
      "    \n",
      "        with pytest.raises(ValueError) as err_hndlr:\n",
      "    \n",
      ">           x = my_picky_float_multiplier(2.0, 5.0)\n",
      "E           Failed: DID NOT RAISE <class 'ValueError'>\n",
      "\n",
      "test_mfm.py:26: Failed\n",
      "=========================== short test summary info ============================\n",
      "FAILED test_mfm.py::test_pfm_fail - Failed: DID NOT RAISE <class 'ValueError'>\n",
      "============================== 1 failed in 0.04s ===============================\n"
     ]
    }
   ],
   "source": [
    "%%bash\n",
    "pytest test_mfm.py::test_pfm_fail || true"
   ]
  },
  {
   "cell_type": "markdown",
   "id": "8a08934f-eedf-4cde-8511-c716c39ae1a9",
   "metadata": {
    "slideshow": {
     "slide_type": "subslide"
    },
    "tags": []
   },
   "source": [
    "## Parameterization\n",
    "\n",
    "* Reuse the same test function\n",
    "* Test different input values"
   ]
  },
  {
   "cell_type": "code",
   "execution_count": 37,
   "id": "a6116efe-47d4-4c1f-92d9-fa3a128de833",
   "metadata": {},
   "outputs": [],
   "source": [
    "# %load -s test_pfm_param_noid test_mfm.py\n",
    "@pytest.mark.parametrize(\n",
    "    argnames=[\"x\", \"y\", \"expected\"],\n",
    "    argvalues=[\n",
    "        (1.0, 3.0, 3.0),\n",
    "        (1.5, -3.0, -4.5),\n",
    "        (-1.5, 3.0, -4.5),\n",
    "        (-1.5, -3.0, 4.5),\n",
    "    ],\n",
    ")\n",
    "def test_pfm_param_noid(x, y, expected):\n",
    "\n",
    "    assert expected == my_picky_float_multiplier(x, y)\n"
   ]
  },
  {
   "cell_type": "markdown",
   "id": "dce9fb5f-64c9-40c2-a7e4-6ccfcef7f403",
   "metadata": {
    "slideshow": {
     "slide_type": "subslide"
    },
    "tags": []
   },
   "source": [
    "## Running `pytest`\n"
   ]
  },
  {
   "cell_type": "code",
   "execution_count": 38,
   "id": "ff5b95c0-27ea-4b28-86ea-8ef2afb2d36d",
   "metadata": {
    "tags": []
   },
   "outputs": [
    {
     "name": "stdout",
     "output_type": "stream",
     "text": [
      "============================= test session starts ==============================\n",
      "platform darwin -- Python 3.7.7, pytest-6.1.2, py-1.9.0, pluggy-0.13.1 -- /Users/dorme/.pyenv/versions/3.7.7/bin/python3.7\n",
      "cachedir: .pytest_cache\n",
      "rootdir: /Users/dorme/Research/Virtual_Rainforest/virtual_rainforest/source/development/training\n",
      "plugins: anyio-3.6.1, pyfakefs-4.5.3, typeguard-2.13.3\n",
      "collecting ... collected 4 items\n",
      "\n",
      "test_mfm.py::test_pfm_param_noid[1.0-3.0-3.0] PASSED                     [ 25%]\n",
      "test_mfm.py::test_pfm_param_noid[1.5--3.0--4.5] PASSED                   [ 50%]\n",
      "test_mfm.py::test_pfm_param_noid[-1.5-3.0--4.5] PASSED                   [ 75%]\n",
      "test_mfm.py::test_pfm_param_noid[-1.5--3.0-4.5] PASSED                   [100%]\n",
      "\n",
      "============================== 4 passed in 0.01s ===============================\n"
     ]
    }
   ],
   "source": [
    "%%bash\n",
    "pytest -v test_mfm.py::test_pfm_param_noid"
   ]
  },
  {
   "cell_type": "markdown",
   "id": "4c921b9f-b9d2-463e-b18b-fafb0bd35019",
   "metadata": {
    "slideshow": {
     "slide_type": "subslide"
    },
    "tags": []
   },
   "source": [
    "## Parameterization: test ids\n",
    "\n",
    "* Adds a label for each parameterized test"
   ]
  },
  {
   "cell_type": "code",
   "execution_count": 39,
   "id": "502f79c7-c64d-4ad9-8c9f-eacd003cc1c5",
   "metadata": {},
   "outputs": [],
   "source": [
    "# %load -s test_pfm_param_ids test_mfm.py\n",
    "@pytest.mark.parametrize(\n",
    "    argnames=[\"x\", \"y\", \"expected\"],\n",
    "    argvalues=[\n",
    "        (1.5, 3.0, 4.5),\n",
    "        (1.5, -3.0, -4.5),\n",
    "        (-1.5, 3.0, -4.5),\n",
    "        (-1.5, -3.0, 4.5),\n",
    "    ],\n",
    "    ids=[\"++\", \"-+\", \"+-\", \"--\"],\n",
    ")\n",
    "def test_pfm_param_ids(x, y, expected):\n",
    "\n",
    "    assert expected == my_picky_float_multiplier(x, y)\n"
   ]
  },
  {
   "cell_type": "markdown",
   "id": "2db52606-da2e-49c1-baec-627476788c05",
   "metadata": {
    "slideshow": {
     "slide_type": "subslide"
    },
    "tags": []
   },
   "source": [
    "## Running `pytest`\n"
   ]
  },
  {
   "cell_type": "code",
   "execution_count": 40,
   "id": "b5f79f3e-653d-4ce3-a9fb-aa976f2cb381",
   "metadata": {},
   "outputs": [
    {
     "name": "stdout",
     "output_type": "stream",
     "text": [
      "============================= test session starts ==============================\n",
      "platform darwin -- Python 3.7.7, pytest-6.1.2, py-1.9.0, pluggy-0.13.1 -- /Users/dorme/.pyenv/versions/3.7.7/bin/python3.7\n",
      "cachedir: .pytest_cache\n",
      "rootdir: /Users/dorme/Research/Virtual_Rainforest/virtual_rainforest/source/development/training\n",
      "plugins: anyio-3.6.1, pyfakefs-4.5.3, typeguard-2.13.3\n",
      "collecting ... collected 4 items\n",
      "\n",
      "test_mfm.py::test_pfm_param_ids[++] PASSED                               [ 25%]\n",
      "test_mfm.py::test_pfm_param_ids[-+] PASSED                               [ 50%]\n",
      "test_mfm.py::test_pfm_param_ids[+-] PASSED                               [ 75%]\n",
      "test_mfm.py::test_pfm_param_ids[--] PASSED                               [100%]\n",
      "\n",
      "============================== 4 passed in 0.01s ===============================\n"
     ]
    }
   ],
   "source": [
    "%%bash\n",
    "pytest -v test_mfm.py::test_pfm_param_ids"
   ]
  },
  {
   "cell_type": "markdown",
   "id": "231dc91b-f6b9-4256-aef7-ce1002f3183b",
   "metadata": {
    "slideshow": {
     "slide_type": "subslide"
    },
    "tags": []
   },
   "source": [
    "## Parameterization: combinatorial\n",
    "\n",
    "* You can add more than on parameter set\n",
    "* The test will run on all combinations"
   ]
  },
  {
   "cell_type": "code",
   "execution_count": 41,
   "id": "8b69ae41-2140-4e95-bff6-2d101c534d4f",
   "metadata": {},
   "outputs": [],
   "source": [
    "# %load -s test_pfm_twoparam test_mfm.py\n",
    "@pytest.mark.parametrize(\n",
    "    argnames=[\"x\"],\n",
    "    argvalues=[(1.5,), (-1.5,)],\n",
    "    ids=[\"+\", \"-\"],\n",
    ")\n",
    "@pytest.mark.parametrize(\n",
    "    argnames=[\"y\"],\n",
    "    argvalues=[(3.0,), (-3.0,)],\n",
    "    ids=[\"+\", \"-\"],\n",
    ")\n",
    "def test_pfm_twoparam(x, y):\n",
    "\n",
    "    assert 4.5 == abs(my_picky_float_multiplier(x, y))\n"
   ]
  },
  {
   "cell_type": "markdown",
   "id": "51fbf6aa-7960-4a6c-b89f-61c7773c5c47",
   "metadata": {
    "slideshow": {
     "slide_type": "subslide"
    },
    "tags": []
   },
   "source": [
    "## Running `pytest`\n",
    "\n",
    "* The IDs for each test get concatenated using `-`"
   ]
  },
  {
   "cell_type": "code",
   "execution_count": 42,
   "id": "1bd9c8e1-dd06-4173-afe6-1e46c31c9134",
   "metadata": {},
   "outputs": [
    {
     "name": "stdout",
     "output_type": "stream",
     "text": [
      "============================= test session starts ==============================\n",
      "platform darwin -- Python 3.7.7, pytest-6.1.2, py-1.9.0, pluggy-0.13.1 -- /Users/dorme/.pyenv/versions/3.7.7/bin/python3.7\n",
      "cachedir: .pytest_cache\n",
      "rootdir: /Users/dorme/Research/Virtual_Rainforest/virtual_rainforest/source/development/training\n",
      "plugins: anyio-3.6.1, pyfakefs-4.5.3, typeguard-2.13.3\n",
      "collecting ... collected 4 items\n",
      "\n",
      "test_mfm.py::test_pfm_twoparam[+-+] PASSED                               [ 25%]\n",
      "test_mfm.py::test_pfm_twoparam[+--] PASSED                               [ 50%]\n",
      "test_mfm.py::test_pfm_twoparam[--+] PASSED                               [ 75%]\n",
      "test_mfm.py::test_pfm_twoparam[---] PASSED                               [100%]\n",
      "\n",
      "============================== 4 passed in 0.01s ===============================\n"
     ]
    }
   ],
   "source": [
    "%%bash\n",
    "pytest -v test_mfm.py::test_pfm_twoparam"
   ]
  },
  {
   "cell_type": "markdown",
   "id": "a107edb4-fad0-4682-bdd9-1e3c0a3811c1",
   "metadata": {
    "slideshow": {
     "slide_type": "subslide"
    },
    "tags": []
   },
   "source": [
    "## Fixtures\n",
    "\n",
    "* Reusable bits of code shared between tests\n",
    "    * Built in fixtures\n",
    "    * User defined fixtures using the `@pytest.fixture` **decorator**\n"
   ]
  },
  {
   "cell_type": "code",
   "execution_count": 43,
   "id": "528bd44a-7211-4258-9e6c-d53598043b23",
   "metadata": {},
   "outputs": [],
   "source": [
    "# %load -s twoparam_expected test_mfm.py\n",
    "@pytest.fixture\n",
    "def twoparam_expected():\n",
    "\n",
    "    expected = {'+-+':  4.5, '---': 4.5, '--+': -4.5, '+--': -4.5}\n",
    "    return expected\n"
   ]
  },
  {
   "cell_type": "markdown",
   "id": "b4b1ce98-87bc-4845-9bc3-bfdcb93154fd",
   "metadata": {
    "slideshow": {
     "slide_type": "subslide"
    },
    "tags": []
   },
   "source": [
    "## Using fixtures\n",
    "\n",
    "* Add the fixture name to the test function arguments\n",
    "* Example has a user defined and built-in fixture (`request`)"
   ]
  },
  {
   "cell_type": "code",
   "execution_count": 44,
   "id": "ceea54cf-7ea9-4762-9905-4b3555499031",
   "metadata": {},
   "outputs": [],
   "source": [
    "# %load -s test_pfm_twoparam_fixture test_mfm.py\n",
    "@pytest.mark.parametrize(\n",
    "    argnames=[\"x\"],\n",
    "    argvalues=[(1.5,), (-1.5,)],\n",
    "    ids=[\"+\", \"-\"],\n",
    ")\n",
    "@pytest.mark.parametrize(\n",
    "    argnames=[\"y\"],\n",
    "    argvalues=[(3.0,), (-3.0,)],\n",
    "    ids=[\"+\", \"-\"],\n",
    ")\n",
    "def test_pfm_twoparam_fixture(request, twoparam_expected, x, y):\n",
    "\n",
    "    expected = twoparam_expected[request.node.callspec.id]\n",
    "\n",
    "    assert expected == my_picky_float_multiplier(x, y)\n"
   ]
  },
  {
   "cell_type": "markdown",
   "id": "b15fec00-d659-4198-8f6f-68006d9d223d",
   "metadata": {
    "slideshow": {
     "slide_type": "subslide"
    },
    "tags": []
   },
   "source": [
    "## Running `pytest`\n"
   ]
  },
  {
   "cell_type": "code",
   "execution_count": 39,
   "id": "ec496806-71f2-400a-81db-0db3e94fbaaa",
   "metadata": {},
   "outputs": [
    {
     "name": "stdout",
     "output_type": "stream",
     "text": [
      "============================= test session starts ==============================\n",
      "platform darwin -- Python 3.7.7, pytest-6.1.2, py-1.9.0, pluggy-0.13.1 -- /Users/dorme/.pyenv/versions/3.7.7/bin/python3.7\n",
      "cachedir: .pytest_cache\n",
      "rootdir: /Users/dorme/Research/Virtual_Rainforest/virtual_rainforest/source/development/training\n",
      "plugins: anyio-3.6.1, pyfakefs-4.5.3, typeguard-2.13.3\n",
      "collecting ... collected 4 items\n",
      "\n",
      "test_mfm.py::test_pfm_twoparam_fixture[+-+] PASSED                       [ 25%]\n",
      "test_mfm.py::test_pfm_twoparam_fixture[+--] PASSED                       [ 50%]\n",
      "test_mfm.py::test_pfm_twoparam_fixture[--+] PASSED                       [ 75%]\n",
      "test_mfm.py::test_pfm_twoparam_fixture[---] PASSED                       [100%]\n",
      "\n",
      "============================== 4 passed in 0.01s ===============================\n"
     ]
    }
   ],
   "source": [
    "%%bash\n",
    "pytest -v test_mfm.py::test_pfm_twoparam_fixture"
   ]
  },
  {
   "cell_type": "markdown",
   "id": "b550be01-0183-4184-a38d-6e8847e972b4",
   "metadata": {
    "slideshow": {
     "slide_type": "subslide"
    },
    "tags": []
   },
   "source": [
    "## Conftest and other built-in fixtures\n",
    "\n",
    "* The `pytest` package looks for `conftest.py`\n",
    "    * Create settings and fixtures used across test files\n",
    "* The `caplog` built-in fixture\n",
    "    * Captures emitted messages from the `logging` package\n",
    "* The `fakefs` package and `fs` built-in fixture\n",
    "    * Allows file paths and contents to be simulated\n",
    "    * Ensure consistent locations for testing across platforms"
   ]
  },
  {
   "cell_type": "markdown",
   "id": "b42bb135-2d39-414c-98b9-c0f2b0cde14c",
   "metadata": {
    "slideshow": {
     "slide_type": "subslide"
    },
    "tags": []
   },
   "source": [
    "## Using `pytest`\n",
    "\n",
    "* Go back to VS Code\n",
    "* Open the `test_my_module.py` file\n",
    "* Use the TODO tree to work through required tests\n",
    "* Use `pytest -v test_my_module.py` to run tests\n",
    "* Or use the Testing icon to view and run tests"
   ]
  }
 ],
 "metadata": {
  "kernelspec": {
   "display_name": "Python 3",
   "language": "python",
   "name": "python3"
  },
  "language_info": {
   "codemirror_mode": {
    "name": "ipython",
    "version": 3
   },
   "file_extension": ".py",
   "mimetype": "text/x-python",
   "name": "python",
   "nbconvert_exporter": "python",
   "pygments_lexer": "ipython3",
   "version": "3.7.7"
  }
 },
 "nbformat": 4,
 "nbformat_minor": 5
}
