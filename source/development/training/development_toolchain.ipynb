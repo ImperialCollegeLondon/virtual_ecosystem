{
 "cells": [
  {
   "cell_type": "markdown",
   "id": "e8be9ee7-000c-4bf2-8217-12b3bc0d99bb",
   "metadata": {
    "slideshow": {
     "slide_type": "slide"
    },
    "tags": []
   },
   "source": [
    "# Development toolchain\n",
    "\n",
    "David Orme"
   ]
  },
  {
   "cell_type": "markdown",
   "id": "a8ce80c8-1b52-4268-905f-8e2e04d12cd6",
   "metadata": {
    "slideshow": {
     "slide_type": "slide"
    },
    "tags": []
   },
   "source": [
    "## Toolchain components\n",
    "\n",
    "* `pyenv`: python installation manager\n",
    "* `poetry`: package manager\n",
    "* `virtualenv`: virtual environments\n",
    "* `pre-commit`: Git pre-commit hooks\n",
    "    * `black`: code auto-formatter\n",
    "    * `isort`: import sorter\n",
    "    * `flake8`: code linter\n",
    "    * `mypy`: type checker\n",
    "    * `markdownlint`: markdown linter"
   ]
  },
  {
   "cell_type": "markdown",
   "id": "c92f7bc0-1786-466f-b9e8-de6104858a9c",
   "metadata": {
    "slideshow": {
     "slide_type": "slide"
    },
    "tags": []
   },
   "source": [
    "## The `pyenv` package\n",
    "\n",
    "![](https://imgs.xkcd.com/comics/python_environment.png)"
   ]
  },
  {
   "cell_type": "markdown",
   "id": "191cb226-fd0e-45a6-959d-a7362e93d888",
   "metadata": {
    "slideshow": {
     "slide_type": "subslide"
    },
    "tags": []
   },
   "source": [
    "## The `pyenv` package\n",
    "\n",
    "* Creates a set of parallel `python` installations\n",
    "    * Linux/MacOS: https://github.com/pyenv/pyenv\n",
    "    * Windows: https://github.com/pyenv-win/pyenv-win\n",
    "* Can set **which** version is being used and **where**\n",
    "* `~/.pyenv/version` `.python_version` and `$PYENV_VERSION`"
   ]
  },
  {
   "cell_type": "code",
   "execution_count": 5,
   "id": "19ec8eff-2042-4052-a060-44a4e794dc92",
   "metadata": {},
   "outputs": [
    {
     "name": "stdout",
     "output_type": "stream",
     "text": [
      "  system\n",
      "  2.7.18\n",
      "  3.10.4\n",
      "  3.6.7\n",
      "* 3.7.7 (set by PYENV_VERSION environment variable)\n",
      "  3.7.7/envs/pyrealm_0.5.6\n",
      "  3.8.3\n",
      "  pyrealm_0.5.6\n"
     ]
    }
   ],
   "source": [
    "%%bash\n",
    "pyenv versions"
   ]
  },
  {
   "cell_type": "markdown",
   "id": "8514773c-2828-4b35-a120-b9ec127a615c",
   "metadata": {
    "slideshow": {
     "slide_type": "slide"
    },
    "tags": []
   },
   "source": [
    "## Poetry\n",
    "\n",
    "The `poetry` system supports all of the aspects of package development:\n",
    "\n",
    "* Dependency management\n",
    "* Virtual environments\n",
    "* Package building\n",
    "* Package publication (`pypi`)"
   ]
  },
  {
   "cell_type": "markdown",
   "id": "56296758-5e73-4810-93b6-218eeaa20fc1",
   "metadata": {
    "slideshow": {
     "slide_type": "subslide"
    },
    "tags": []
   },
   "source": [
    "## Installing `poetry`\n",
    "\n",
    "* Poetry is written in python but not installed via `pip`!\n",
    "* Not (currently) tied to a particular python installation\n",
    "\n",
    "### Installation\n",
    "* https://python-poetry.org/docs/\n",
    "* Pipe a script from the web straight into Python 3.7+\n",
    "\n",
    "* Linux/MacOS/WSL\n",
    "```bash\n",
    "curl -sSL https://raw.githubusercontent.com/python-poetry/poetry/master/get-poetry.py | python -\n",
    "```\n",
    "\n",
    "\n"
   ]
  },
  {
   "cell_type": "markdown",
   "id": "febf3a9a-b9d2-4f7b-bbad-e1b8f2bd4b94",
   "metadata": {
    "jp-MarkdownHeadingCollapsed": true,
    "slideshow": {
     "slide_type": "subslide"
    },
    "tags": []
   },
   "source": [
    "## Accessing poetry\n",
    "\n",
    "* The location of the `poetry` command now needs to be set\n",
    "* Edit the `$PATH` environment variable in your shell profile\n",
    "    * `.bash_profile`, `.zshrc`\n",
    "\n",
    "```bash\n",
    "# On Mac/Linux\n",
    "export PATH=$HOME/.poetry/bin:$PATH\n",
    "# On WSL\n",
    "export PATH=$USERPROFILE/.poetry/bin:$PATH\n",
    "```"
   ]
  },
  {
   "cell_type": "markdown",
   "id": "6c65eeb5-71fa-40c6-8174-8895c96ee43a",
   "metadata": {
    "slideshow": {
     "slide_type": "subslide"
    },
    "tags": []
   },
   "source": [
    "## Using poetry"
   ]
  },
  {
   "cell_type": "code",
   "execution_count": 6,
   "id": "7082c24e-1ced-4dce-a48e-7ba7617243f0",
   "metadata": {},
   "outputs": [
    {
     "name": "stdout",
     "output_type": "stream",
     "text": [
      "Poetry version 1.1.13\n",
      "\n",
      "USAGE\n",
      "  poetry [-h] [-q] [-v [<...>]] [-V] [--ansi] [--no-ansi] [-n] <command>\n",
      "         [<arg1>] ... [<argN>]\n",
      "\n",
      "ARGUMENTS\n",
      "  <command>              The command to execute\n",
      "  <arg>                  The arguments of the command\n",
      "\n",
      "GLOBAL OPTIONS\n",
      "  -h (--help)            Display this help message\n",
      "  -q (--quiet)           Do not output any message\n",
      "  -v (--verbose)         Increase the verbosity of messages: \"-v\" for normal\n",
      "                         output, \"-vv\" for more verbose output and \"-vvv\" for\n",
      "                         debug\n",
      "  -V (--version)         Display this application version\n",
      "  --ansi                 Force ANSI output\n",
      "  --no-ansi              Disable ANSI output\n",
      "  -n (--no-interaction)  Do not ask any interactive question\n",
      "\n",
      "AVAILABLE COMMANDS\n",
      "  about                  Shows information about Poetry.\n",
      "  add                    Adds a new dependency to pyproject.toml.\n",
      "  build                  Builds a package, as a tarball and a wheel by default.\n",
      "  cache                  Interact with Poetry's cache\n",
      "  check                  Checks the validity of the\n",
      "                         pyproject.toml file.\n",
      "  config                 Manages configuration settings.\n",
      "  debug                  Debug various elements of Poetry.\n",
      "  env                    Interact with Poetry's project environments.\n",
      "  export                 Exports the lock file to alternative formats.\n",
      "  help                   Display the manual of a command\n",
      "  init                   Creates a basic pyproject.toml file in the\n",
      "                         current directory.\n",
      "  install                Installs the project dependencies.\n",
      "  lock                   Locks the project dependencies.\n",
      "  new                    Creates a new Python project at <path>.\n",
      "  publish                Publishes a package to a remote repository.\n",
      "  remove                 Removes a package from the project dependencies.\n",
      "  run                    Runs a command in the appropriate environment.\n",
      "  search                 Searches for packages on remote repositories.\n",
      "  self                   Interact with Poetry directly.\n",
      "  shell                  Spawns a shell within the virtual environment.\n",
      "  show                   Shows information about packages.\n",
      "  update                 Update the dependencies as according to the\n",
      "                         pyproject.toml file.\n",
      "  version                Shows the version of the project or bumps it when a\n",
      "                         valid bump rule is provided.\n",
      "\n"
     ]
    }
   ],
   "source": [
    "%%bash\n",
    "~/.poetry/bin/poetry --help"
   ]
  },
  {
   "cell_type": "markdown",
   "id": "44411ce8-713e-4f36-8026-21edd68f4855",
   "metadata": {
    "slideshow": {
     "slide_type": "subslide"
    },
    "tags": []
   },
   "source": [
    "## Using poetry with a package\n",
    "\n",
    "* Start using poetry: `poetry init` or `poetry new`\n",
    "* Creates `pyproject.toml` file\n",
    "    * Description, authors, URLS\n",
    "    * Dependencies (aka requirements)\n",
    "    * Command line scripts\n",
    "    * Package build setup\n",
    "    * Also used to configure other tools"
   ]
  },
  {
   "cell_type": "markdown",
   "id": "d7eba069-53d8-4284-abd2-b686015e3033",
   "metadata": {
    "slideshow": {
     "slide_type": "subslide"
    },
    "tags": []
   },
   "source": [
    "## Managing dependencies\n",
    "\n",
    "The `poetry` subcommands: `add`, `update`, `remove` \n",
    "\n",
    "* Manage dependencies and minimum versions described in `pyproject.toml`\n",
    "* Resolves dependencies and versions **if possible**\n",
    "* Exports a resolved set to the `poetry.lock` file\n",
    "* `poetry install`: Installs set using the current active python\n",
    "\n",
    "```bash\n",
    "~ % poetry env use 3.8\n",
    "Creating virtualenv demo-py3.8 in /.../virtualenvs\n",
    "Using virtualenv: /.../demo-py3.8\n",
    "~ % poetry install\n",
    "Installing dependencies from lock file\n",
    "Package operations: 56 installs, 0 updates, 0 removals\n",
    "...\n",
    "Installing the current project: safedata_validator (2.0.1-post9000)\n"
   ]
  },
  {
   "cell_type": "markdown",
   "id": "3be49d9c-17e3-4bab-b725-5223f9c7a14f",
   "metadata": {
    "slideshow": {
     "slide_type": "subslide"
    },
    "tags": []
   },
   "source": [
    "## Virtual environments\n",
    "\n",
    "The `poetry env` command manages **virtual environments** ('venv')\n",
    "\n",
    "* A specific version of python with specific packages\n",
    "* Python installation **specific** to a particular project\n",
    "* Can have multiple venvs in parallel: `poetry env add`\n",
    "* A single venv can be **active**\n",
    "\n",
    "```bash\n",
    "dorme@MacBook-Pro safedata_validator % poetry env list\n",
    "demo-py3.6\n",
    "demo-py3.7\n",
    "demo-py3.8 (Activated)\n",
    "dorme@MacBook-Pro safedata_validator % \n",
    "```"
   ]
  },
  {
   "cell_type": "markdown",
   "id": "4d7d4e59-6ee0-407f-bdc8-d496f706ef0b",
   "metadata": {
    "slideshow": {
     "slide_type": "subslide"
    },
    "tags": []
   },
   "source": [
    "## Activating virtual environments\n",
    "\n",
    "* A `venv` must be active to be used:\n",
    "\n",
    "```bash\n",
    "~ % poetry shell\n",
    "Spawning shell within /.../demo-py3.8\n",
    "~ % . /.../demo-py3.8/bin/activate\n",
    "(demo-py3.8) dorme@MacBook-Pro safedata_validator_package % \n",
    "```\n",
    "\n",
    "* Or a single command can use the `venv`:\n",
    "\n",
    "```bash\n",
    "poetry run command\n",
    "```"
   ]
  },
  {
   "cell_type": "markdown",
   "id": "d2bcad9e-03ec-4c54-819f-9d117d775774",
   "metadata": {
    "slideshow": {
     "slide_type": "subslide"
    },
    "tags": []
   },
   "source": [
    "## Package build and publish\n",
    "\n",
    "For a release candidate (`release/x.y.z`) or release (`master`):\n",
    "\n",
    "* Build the package into a release format (`bdist`, `wheel`)\n",
    "    * `poetry build`\n",
    "* Publish the package to PyPi (or Test PyPi)!\n",
    "    * `poetry publish`    \n"
   ]
  },
  {
   "cell_type": "markdown",
   "id": "e5834bc1-d5e6-4b86-a05c-ed7a2565dea5",
   "metadata": {
    "slideshow": {
     "slide_type": "slide"
    },
    "tags": []
   },
   "source": [
    "## Pre-commit\n",
    "\n",
    "* A python package to manage `git` pre-commit hooks\n",
    "* Prevents commits that do not pass checks\n",
    "* Configured in `.pre-commit-config.yaml`\n",
    "* Install using: `pre-commit install`\n",
    "* Can double check before committing: `pre-commit run`...\n",
    "* ...but not much point!\n"
   ]
  },
  {
   "cell_type": "markdown",
   "id": "76d3ae7c-5173-4376-a593-efbad3ef9568",
   "metadata": {
    "slideshow": {
     "slide_type": "subslide"
    },
    "tags": []
   },
   "source": [
    "## `pre-commit` configuration\n",
    "\n",
    "```text\n",
    "repos:\n",
    "  - repo: https://github.com/pre-commit/pre-commit-hooks\n",
    "    rev: v4.1.0\n",
    "    hooks:\n",
    "      - id: check-merge-conflict\n",
    "      - id: debug-statements\n",
    "  - repo: https://github.com/timothycrosley/isort\n",
    "    rev: \"5.10.1\"\n",
    "    hooks:\n",
    "      - id: isort\n",
    "        additional_dependencies: [toml]\n",
    "  - repo: https://github.com/psf/black\n",
    "    rev: \"22.3.0\"\n",
    "    hooks:\n",
    "      - id: black\n",
    "  - repo: https://gitlab.com/pycqa/flake8\n",
    "    rev: 3.9.2\n",
    "    hooks:\n",
    "      - id: flake8\n",
    "  - repo: https://github.com/pre-commit/mirrors-mypy\n",
    "    rev: \"v0.931\"\n",
    "    hooks:\n",
    "      - id: mypy\n",
    "  - repo: https://github.com/markdownlint/markdownlint\n",
    "    rev: \"v0.11.0\"\n",
    "    hooks:\n",
    "      - id: markdownlint\n",
    "        args: [\"-r\", \"~MD013\"]\n",
    "```\n",
    "\n"
   ]
  },
  {
   "cell_type": "markdown",
   "id": "36320a4c-7a9c-4e2b-b6fd-587f611afc85",
   "metadata": {
    "slideshow": {
     "slide_type": "slide"
    },
    "tags": []
   },
   "source": [
    "## The `isort` import formatter\n",
    "\n",
    "* Expected order and layout of package imports\n",
    "* Automatically enforced by [the `isort` package](https://pycqa.github.io/isort/)\n",
    "* Configured from `pyproject.toml`\n",
    "\n",
    "```python\n",
    "import standard_library\n",
    "\n",
    "import third_party_library\n",
    "\n",
    "import my_library\n",
    "```"
   ]
  },
  {
   "cell_type": "markdown",
   "id": "73747615-5208-4863-80e0-b7cfcd9c2c51",
   "metadata": {
    "slideshow": {
     "slide_type": "slide"
    },
    "tags": []
   },
   "source": [
    "## The `black` code formatter\n",
    "\n",
    "* An ['uncomprising code formatter'](https://black.readthedocs.io/en/stable/)\n",
    "* **Imposes** a particular format on code files\n",
    "    * Use of double quotes, not single\n",
    "    * Maximum line length (Usually 88 characters)\n",
    "    * Wrapping patterns for long lines\n",
    "* Only slightly configurable - this is what you get\n",
    "* Maintains a consistent code layout \n"
   ]
  },
  {
   "cell_type": "markdown",
   "id": "645f49e3-0451-45ff-b1cc-98f9e143aef1",
   "metadata": {
    "slideshow": {
     "slide_type": "slide"
    },
    "tags": []
   },
   "source": [
    "## The `flake8` linter\n",
    "\n",
    "* A [python **linter**](https://flake8.pycqa.org/en/latest/)\n",
    "* Provides commentary on files but does not change them\n",
    "* Wraps `PyFlakes` and `pycodestyle` but many other options\n",
    "* Highly configurable and extendable\n",
    "* Not just formatting: coding styles, complexity etc.\n",
    "* Run `black` **first**"
   ]
  },
  {
   "cell_type": "markdown",
   "id": "04e773a0-315c-4dff-b807-0b9ba26e0983",
   "metadata": {
    "slideshow": {
     "slide_type": "slide"
    },
    "tags": []
   },
   "source": [
    "## The `mypy` type checker\n",
    "\n",
    "* Python is **dynamically** typed: \n",
    "    * using an object checks the object type\n",
    "    * 'duck' typing\n",
    "* [PEP 484](https://peps.python.org/pep-0484/) (2015, Python 3.5+) introduced optional **type hints**\n",
    "* Implemented using `typing` standard library and others\n",
    "* `mypy` is a **static typing tool for code development**\n",
    "* Checks that a code base is internally consistent\n",
    "* Python does not enforce type hints **at runtime**\n"
   ]
  },
  {
   "cell_type": "markdown",
   "id": "f3325e62-760d-4b88-8968-35573a8ecf04",
   "metadata": {
    "slideshow": {
     "slide_type": "subslide"
    },
    "tags": []
   },
   "source": [
    "## The `mypy` type checker\n",
    "\n",
    "* Type hints in a function **signature**"
   ]
  },
  {
   "cell_type": "code",
   "execution_count": 17,
   "id": "2a43f3c5-13e5-472f-bc59-602c7ef79e35",
   "metadata": {},
   "outputs": [],
   "source": [
    "# %load -s my_picky_float_multiplier mfm.py\n",
    "def my_picky_float_multiplier(x: float, y: float) -> float:\n",
    "    \"\"\"Multiplies two floats together.\n",
    "\n",
    "    Arguments:\n",
    "        x: The first number\n",
    "        y: The second number\n",
    "\n",
    "    Examples:\n",
    "        >>> my_float_multiplier3(2.1, 3.6)  # doctest: +ELLIPSIS\n",
    "        7.56...\n",
    "        >>> my_picky_float_multiplier(2, 3)\n",
    "        ... # doctest: +ELLIPSIS\n",
    "        Traceback (most recent call last):\n",
    "          ...\n",
    "        ValueError: Both x and y must be of type float\n",
    "    \"\"\"\n",
    "\n",
    "    if not (isinstance(x, float) and isinstance(y, float)):\n",
    "        raise ValueError(\"Both x and y must be of type float\")\n",
    "\n",
    "    return x * y\n"
   ]
  },
  {
   "cell_type": "markdown",
   "id": "10ee1513-6a9d-492c-8062-1591a4365ef3",
   "metadata": {
    "slideshow": {
     "slide_type": "subslide"
    },
    "tags": []
   },
   "source": [
    "## The `mypy` package\n",
    "\n",
    "* Provides the command `mypy`\n",
    "* Highly configurable\n",
    "* Installable **stubs** to add type checking of imports\n",
    "* The [`typeshed` repository](https://github.com/python/typeshed) maintains stubs\n",
    "* Checks that codebase uses type hints **compatibly**\n",
    "\n",
    "```python\n",
    "# Mypy does _not_ complain: int is compatible with float\n",
    "important_result = my_picky_float_multiplier(2, 3)\n",
    "\n",
    "# Mypy _does_ complain: str is not compatible with float\n",
    "important_result = my_picky_float_multiplier('a', 3)\n",
    "```"
   ]
  },
  {
   "cell_type": "markdown",
   "id": "0f64ad83-2211-4d0a-84a3-36ad45f739f5",
   "metadata": {
    "slideshow": {
     "slide_type": "subslide"
    },
    "tags": []
   },
   "source": [
    "## The `pydantic` package\n",
    "\n",
    "* Can decorate functions to enable **runtime** type checking"
   ]
  },
  {
   "cell_type": "code",
   "execution_count": 30,
   "id": "74c7a191-fa72-4c16-88f6-db690699bb2b",
   "metadata": {},
   "outputs": [
    {
     "data": {
      "text/plain": [
       "'aaaaa'"
      ]
     },
     "execution_count": 30,
     "metadata": {},
     "output_type": "execute_result"
    }
   ],
   "source": [
    "\n",
    "def my_float_multiplier(x: float, y: float) -> float:\n",
    "    \"\"\"Multiplies two floats together.\n",
    "\n",
    "    Arguments:\n",
    "        x: The first number\n",
    "        y: The second number\n",
    "\n",
    "    Examples:\n",
    "        >>> my_float_multiplier(2.1, 3.6)\n",
    "        7.56\n",
    "    \"\"\"\n",
    "\n",
    "    return x * y\n",
    "\n",
    "my_float_multiplier(5, 'a')"
   ]
  },
  {
   "cell_type": "markdown",
   "id": "3f7d3ba2-edca-451d-b305-2aa36b355b98",
   "metadata": {
    "slideshow": {
     "slide_type": "subslide"
    },
    "tags": []
   },
   "source": [
    "## The `pydantic` package\n",
    "\n",
    "* Can decorate functions to enable runtime type checking"
   ]
  },
  {
   "cell_type": "code",
   "execution_count": 31,
   "id": "49da639f-2c50-4ed4-a0c7-bbc3783801b1",
   "metadata": {},
   "outputs": [
    {
     "ename": "ValidationError",
     "evalue": "1 validation error for MyValidatedFloatMultiplier\ny\n  value is not a valid float (type=type_error.float)",
     "output_type": "error",
     "traceback": [
      "\u001b[0;31m---------------------------------------------------------------------------\u001b[0m",
      "\u001b[0;31mValidationError\u001b[0m                           Traceback (most recent call last)",
      "\u001b[0;32m<ipython-input-31-02b3526958dc>\u001b[0m in \u001b[0;36m<module>\u001b[0;34m\u001b[0m\n\u001b[1;32m     16\u001b[0m     \u001b[0;32mreturn\u001b[0m \u001b[0mx\u001b[0m \u001b[0;34m*\u001b[0m \u001b[0my\u001b[0m\u001b[0;34m\u001b[0m\u001b[0;34m\u001b[0m\u001b[0m\n\u001b[1;32m     17\u001b[0m \u001b[0;34m\u001b[0m\u001b[0m\n\u001b[0;32m---> 18\u001b[0;31m \u001b[0mmy_validated_float_multiplier\u001b[0m\u001b[0;34m(\u001b[0m\u001b[0;36m1\u001b[0m\u001b[0;34m,\u001b[0m \u001b[0;34m'a'\u001b[0m\u001b[0;34m)\u001b[0m\u001b[0;34m\u001b[0m\u001b[0;34m\u001b[0m\u001b[0m\n\u001b[0m",
      "\u001b[0;32m~/.pyenv/versions/3.7.7/lib/python3.7/site-packages/pydantic/decorator.cpython-37m-darwin.so\u001b[0m in \u001b[0;36mpydantic.decorator.validate_arguments.validate.wrapper_function\u001b[0;34m()\u001b[0m\n",
      "\u001b[0;32m~/.pyenv/versions/3.7.7/lib/python3.7/site-packages/pydantic/decorator.cpython-37m-darwin.so\u001b[0m in \u001b[0;36mpydantic.decorator.ValidatedFunction.call\u001b[0;34m()\u001b[0m\n",
      "\u001b[0;32m~/.pyenv/versions/3.7.7/lib/python3.7/site-packages/pydantic/decorator.cpython-37m-darwin.so\u001b[0m in \u001b[0;36mpydantic.decorator.ValidatedFunction.init_model_instance\u001b[0;34m()\u001b[0m\n",
      "\u001b[0;32m~/.pyenv/versions/3.7.7/lib/python3.7/site-packages/pydantic/main.cpython-37m-darwin.so\u001b[0m in \u001b[0;36mpydantic.main.BaseModel.__init__\u001b[0;34m()\u001b[0m\n",
      "\u001b[0;31mValidationError\u001b[0m: 1 validation error for MyValidatedFloatMultiplier\ny\n  value is not a valid float (type=type_error.float)"
     ]
    }
   ],
   "source": [
    "from pydantic import validate_arguments\n",
    "\n",
    "@validate_arguments\n",
    "def my_validated_float_multiplier(x: float, y: float) -> float:\n",
    "    \"\"\"Multiplies two floats together.\n",
    "\n",
    "    Arguments:\n",
    "        x: The first number\n",
    "        y: The second number\n",
    "\n",
    "    Examples:\n",
    "        >>> my_float_multiplier(2.1, 3.6)\n",
    "        7.56\n",
    "    \"\"\"\n",
    "\n",
    "    return x * y\n",
    "\n",
    "my_validated_float_multiplier(1, 'a')"
   ]
  },
  {
   "cell_type": "markdown",
   "id": "3a580658-0c44-47e5-b35e-4a035f778508",
   "metadata": {
    "slideshow": {
     "slide_type": "slide"
    },
    "tags": []
   },
   "source": [
    "## Markdownlint\n",
    "\n",
    "* A [markdown linter](https://github.com/markdownlint/markdownlint)\n",
    "    * Compliance with CommonMark markdown\n",
    "    * VS Code extension \n",
    "    * Linter _not_ a formatter\n",
    "    * Written in `ruby` (or `node.js`)\n",
    "* `mdformat`: an opinionated **formatter**:\n",
    "    * (some) extensions for MyST Markdown\n",
    "    * Also available as a pre-commit hook\n",
    "    * Written in Python\n"
   ]
  },
  {
   "cell_type": "markdown",
   "id": "7f3d8bdc-e75a-46b1-9c2a-deada0ef5d79",
   "metadata": {
    "slideshow": {
     "slide_type": "slide"
    },
    "tags": []
   },
   "source": [
    "## Playgrounds\n",
    "\n",
    "Online sandboxes for exploring tools:\n",
    "\n",
    "* [isort playground](https://pycqa.github.io/isort/docs/quick_start/0.-try.html)\n",
    "* [black playground](https://black.vercel.app/)\n",
    "* flake8 playground - Can't find one!\n",
    "* [mypy playground](https://mypy-play.net/)\n",
    "* [markdownlint playground](https://dlaa.me/markdownlint/)"
   ]
  }
 ],
 "metadata": {
  "kernelspec": {
   "display_name": "Python 3",
   "language": "python",
   "name": "python3"
  },
  "language_info": {
   "codemirror_mode": {
    "name": "ipython",
    "version": 3
   },
   "file_extension": ".py",
   "mimetype": "text/x-python",
   "name": "python",
   "nbconvert_exporter": "python",
   "pygments_lexer": "ipython3",
   "version": "3.7.7"
  }
 },
 "nbformat": 4,
 "nbformat_minor": 5
}
