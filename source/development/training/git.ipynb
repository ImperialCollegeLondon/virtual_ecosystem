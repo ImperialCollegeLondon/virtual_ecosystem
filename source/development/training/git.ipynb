{
 "cells": [
  {
   "cell_type": "markdown",
   "metadata": {
    "slideshow": {
     "slide_type": "slide"
    },
    "tags": []
   },
   "source": [
    "# Git and GitFlow\n",
    "\n",
    "David Orme"
   ]
  },
  {
   "cell_type": "markdown",
   "metadata": {
    "slideshow": {
     "slide_type": "slide"
    },
    "tags": []
   },
   "source": [
    "## Workshop format\n",
    "\n",
    "* Tricky to do worked examples in `git`\n",
    "* Do ask questions!\n",
    "* Slides are online:\n",
    "\n",
    "https://github.com/ImperialCollegeLondon/virtual_rainforest/blob/main/source/development/training/git.ipynb"
   ]
  },
  {
   "cell_type": "markdown",
   "metadata": {
    "slideshow": {
     "slide_type": "subslide"
    },
    "tags": []
   },
   "source": [
    "## Other sources of help \n",
    "\n",
    "* The [Multilingual Quantitative Biologist](https://mhasoba.github.io/TheMulQuaBio/notebooks/03-Git.html) introduction to Git. \n",
    "* Reference book: <http://git-scm.com/book>\n",
    "* Tutorials: <https://try.github.io>\n"
   ]
  },
  {
   "cell_type": "markdown",
   "metadata": {
    "slideshow": {
     "slide_type": "subslide"
    },
    "tags": []
   },
   "source": [
    "## Tools\n",
    "\n",
    "* `git` is the **software**\n",
    "* GitHub is a server system providing **`git`**\n",
    "* `git` is a **command line application**\n",
    "* Some programs provide a **graphical user interface**\n",
    "    * [Visual Studio Code](https://code.visualstudio.com/)\n",
    "    * [Github Desktop](https://desktop.github.com/)\n",
    "    * [PyCharm](https://www.jetbrains.com/pycharm/)"
   ]
  },
  {
   "cell_type": "markdown",
   "metadata": {
    "slideshow": {
     "slide_type": "slide"
    },
    "tags": []
   },
   "source": [
    "## Version Control\n",
    "\n",
    "* Version control tracks changes to **text files** automatically.\n",
    "* Often computer code but can be data files etc.\n",
    "* A **repository** is a directory containing files under version control.\n",
    "* All changes to files are archived and can be recalled.\n",
    "* Provide **repository branches** for code development.\n"
   ]
  },
  {
   "cell_type": "markdown",
   "metadata": {
    "slideshow": {
     "slide_type": "subslide"
    },
    "tags": []
   },
   "source": [
    "## Why Version Control?\n",
    "\n",
    "* Roll back changes to code and other data\n",
    "* A remote backup of a code project\n",
    "* Organise code cleanly \n",
    "* Collaborate with others on developing new code\n",
    "* Distribute new code to collaborators\n"
   ]
  },
  {
   "cell_type": "markdown",
   "metadata": {
    "slideshow": {
     "slide_type": "subslide"
    },
    "tags": []
   },
   "source": [
    "## Why Version Control?\n",
    "\n",
    "![cvs.png](./images/git/cvs.png)\n",
    "<!-- http://maktoons.blogspot.com/2009/06/if-dont-use-version-control-system.htm -->"
   ]
  },
  {
   "cell_type": "markdown",
   "metadata": {
    "slideshow": {
     "slide_type": "slide"
    },
    "tags": []
   },
   "source": [
    "## Local vs remote\n",
    "\n",
    "* A project can exist as a single **local** repository\n",
    "* But local repos can be synchronised with one (or more!) **remote** repositories\n",
    "\n",
    "![Centralised_Git.png](images/git/Centralised_Git.png)"
   ]
  },
  {
   "cell_type": "markdown",
   "metadata": {
    "slideshow": {
     "slide_type": "subslide"
    },
    "tags": []
   },
   "source": [
    "## Decentralised\n",
    "\n",
    "* A local repository **can** have other **remote** repositories.\n",
    "\n",
    "![Decentralised_Git.png](images/git/Decentralised_Git.png)"
   ]
  },
  {
   "cell_type": "markdown",
   "metadata": {
    "slideshow": {
     "slide_type": "subslide"
    },
    "tags": []
   },
   "source": [
    "## Fork vs Clone\n",
    "\n",
    "* Using `git clone` creates a copy with the cloned repo as a **remote**\n",
    "* **Forking**\n",
    "    * copying a project into a new repo,\n",
    "    * with a new owner, \n",
    "    * usually to develop it in a different direction. \n",
    "    * There is no `git fork` command line option."
   ]
  },
  {
   "cell_type": "markdown",
   "metadata": {
    "slideshow": {
     "slide_type": "slide"
    },
    "tags": []
   },
   "source": [
    "## Using `git`\n",
    "\n",
    "|     Command    |   What it does     |\n",
    "| :------------- |:-------------| \n",
    "|`git init`|           Initialize a new repository|\n",
    "|`git clone`|          Download a repository from a remote|\n",
    "|`git status`|         Show the current status of a branch|\n",
    "|`git diff`|           Show differences between commits|\n",
    "|`git blame`|          See who changed a file|\n",
    "|`git log`|            Show commit history|\n",
    "|`git commit`|         Commit changes to current branch|\n",
    "|`git branch`|         Show branches|\n",
    "|`git branch name`|    Create new branch|\n",
    "|`git checkout name`|  Switch to a different code state (e.g. branch)|\n",
    "|`git fetch`|          Get remote changes without merging|\n",
    "|`git merge`|          Merge versions of files|\n",
    "|`git pull`|           Synchronise code state to remote|\n",
    "|`git push`|           Send committed changes to remote |"
   ]
  },
  {
   "cell_type": "markdown",
   "metadata": {
    "slideshow": {
     "slide_type": "subslide"
    },
    "tags": []
   },
   "source": [
    "## Using `git`\n",
    "\n",
    "\n",
    "![git_xkcd.png](images/git/git_xkcd_1.png)\n",
    "<!-- https://xkcd.com/1597/ -->\n"
   ]
  },
  {
   "cell_type": "markdown",
   "metadata": {
    "slideshow": {
     "slide_type": "subslide"
    },
    "tags": []
   },
   "source": [
    "## Making changes to a repo\n",
    "\n",
    "![git.png](./images/git/git.png)\n",
    "\n",
    "<!-- https://blog.osteele.com/2008/05/my-git-workflow/ -->\n"
   ]
  },
  {
   "cell_type": "markdown",
   "metadata": {
    "slideshow": {
     "slide_type": "subslide"
    },
    "tags": []
   },
   "source": [
    "## Use `git status` **constantly**\n",
    "\n",
    "```bash\n",
    "On branch feature/isotopic_discrimination\n",
    "Your branch is ahead of 'origin/feature/isotopic_discrimination' by 3 commits.\n",
    "  (use \"git push\" to publish your local commits)\n",
    "\n",
    "Changes not staged for commit:\n",
    "  (use \"git add <file>...\" to update what will be committed)\n",
    "  (use \"git restore <file>...\" to discard changes in working directory)\n",
    "    modified:   pyrealm/pmodel.py\n",
    "\n",
    "Untracked files:\n",
    "  (use \"git add <file>...\" to include in what will be committed)\n",
    "    .pylintrc\n",
    "    old_untidyfile.xlsx\n",
    "```"
   ]
  },
  {
   "cell_type": "markdown",
   "metadata": {
    "slideshow": {
     "slide_type": "subslide"
    },
    "tags": []
   },
   "source": [
    "## Using `add` and `commit`\n",
    "\n",
    "* `git add` makes git start tracking a file\n",
    "* `git commit`:\n",
    "    * adds changes to the local repository\n",
    "    * requires a message explaining the changes\n",
    "    * each commit has a unique reference id\n",
    "    * `f960d034cb57dd277af7501be6884f767e` or `f960d03`\n",
    "* You should:\n",
    "    * commit **frequent, small changes**\n",
    "    * with **meaningful, clear messages**"
   ]
  },
  {
   "cell_type": "markdown",
   "metadata": {
    "slideshow": {
     "slide_type": "subslide"
    },
    "tags": []
   },
   "source": [
    "## Using `add` and `commit`\n",
    "\n",
    "![git_xkcd.png](images/git/git_xkcd.png)\n",
    "<!-- https://xkcd.com/1296/ -->"
   ]
  },
  {
   "cell_type": "markdown",
   "metadata": {
    "slideshow": {
     "slide_type": "subslide"
    },
    "tags": []
   },
   "source": [
    "## Using `push`, `fetch` and `pull`\n",
    "\n",
    "* Share code with others (`push`)\n",
    "* Find out about new code from others (`fetch`)\n",
    "* Integrate new code (`pull`)\n",
    "* Find out what has changed:\n",
    "\n",
    "``` bash\n",
    "git remote update\n",
    "git status\n",
    "```\n",
    "\n"
   ]
  },
  {
   "cell_type": "markdown",
   "metadata": {
    "slideshow": {
     "slide_type": "subslide"
    },
    "tags": []
   },
   "source": [
    "## Ignoring Files\n",
    "\n",
    "* Not all files in a repository should be tracked\n",
    "    * Created files - logs, compiled code \n",
    "    * Files that do not `git` well\n",
    "* Use `.gitignore` files to set what is ignored.\n",
    "    * `./.gitignore`\n",
    "    * `./specific/subdirectory/.gitignore`\n",
    "    * ` ~/.gitignore_global` \n",
    "* The `.gitignore` files are **part of the repository**"
   ]
  },
  {
   "cell_type": "markdown",
   "metadata": {
    "slideshow": {
     "slide_type": "subslide"
    },
    "tags": []
   },
   "source": [
    "## Using `.gitignore` patterns\n",
    "\n",
    "|     Pattern    |   gitignore result     |\n",
    "| :------------- |:-------------| \n",
    "| `#comment` | This is a comment |\n",
    "|`target`|     Ignore files/directories called `target` everywhere|\n",
    "|`target/`|   Ignore directories (trailing `/`) named `target` everywhere |\n",
    "|`/target`|   Ignore files/directories called `target` in the project root (leading `/`)|\n",
    "|`/target/`|  Ignore directories called `target` in the project root|\n",
    "| `*.ext` | Ignore anything with the extension `.ext`|\n",
    "| `*.py[co]`|  Ignore anything ending in `.pyc` or `.pyo`|\n"
   ]
  },
  {
   "cell_type": "markdown",
   "metadata": {
    "slideshow": {
     "slide_type": "subslide"
    },
    "tags": []
   },
   "source": [
    "## Removing and moving files\n",
    "\n",
    "* `git rm <file>` \n",
    "    * removes a file from the index **and deletes it**\n",
    "* `git rm --cached <file>`\n",
    "    * removes a file from the index but **leaves the file**\n",
    "    * could be added to `.gitignore`\n",
    "* `git mv <file> <new location>`\n",
    "    * file is moved \n",
    "    * changes are tracked across locations"
   ]
  },
  {
   "cell_type": "markdown",
   "metadata": {
    "slideshow": {
     "slide_type": "subslide"
    },
    "tags": []
   },
   "source": [
    "## What does not `git` well?\n",
    "\n",
    "* `git` tracks **incremental changes**:\n",
    "    * Every change recorded in the index...\n",
    "    * ... but as small `diff` changes.\n",
    "    * Keeps the repository size small:\n",
    "    * `git count-objects -vH`\n",
    "\n",
    "* **Binary files**\n",
    "    * Incremental diffs rarely possible\n",
    "    * Whole file is stored for every change\n",
    "\n",
    "* **Large, frequently changing files**\n",
    "    * Very large `diff` details"
   ]
  },
  {
   "cell_type": "markdown",
   "metadata": {
    "slideshow": {
     "slide_type": "subslide"
    },
    "tags": []
   },
   "source": [
    "## Binary and large files\n",
    "\n",
    "* Keep to small, static files as much as possible\n",
    "    * Images\n",
    "    * Small data files for testing\n",
    "    * Minimum working example (MWE) data for documentation\n",
    "* If needed, use extensions to point to larger binary files:\n",
    "    * [`git-annex`](https://git-annex.branchable.com)\n",
    "    * [`git-lfs`](https://www.atlassian.com/git/tutorials/git-lfs)"
   ]
  },
  {
   "cell_type": "markdown",
   "metadata": {
    "slideshow": {
     "slide_type": "slide"
    },
    "tags": []
   },
   "source": [
    "## Branching\n",
    "\n",
    "* Repositories can contain **branches**\n",
    "* A branch tracks an alternative parallel sets of changes\n",
    "* Can contain changes to code\n",
    "* Can contain completely different content (e.g. `gh-pages`)\n",
    "\n",
    "![GitFlow.png](./images/git/GitFlow.png)\n"
   ]
  },
  {
   "cell_type": "markdown",
   "metadata": {
    "slideshow": {
     "slide_type": "subslide"
    },
    "tags": []
   },
   "source": [
    "## Git `checkout`\n",
    "\n",
    "* Move between branches\n",
    "* Move between commits\n",
    "\n",
    "```bash\n",
    "git checkout feature/a\n",
    "git checkout f960d03\n",
    "```"
   ]
  },
  {
   "cell_type": "markdown",
   "metadata": {
    "slideshow": {
     "slide_type": "subslide"
    },
    "tags": []
   },
   "source": [
    "## Merging\n",
    "\n",
    "* Incorporating changes into a branch\n",
    "    * Merging another branch\n",
    "    * Merging a **pull request**\n",
    "* Different **[strategies](https://docs.github.com/en/repositories/configuring-branches-and-merges-in-your-repository/configuring-pull-request-merges/about-merge-methods-on-github)** (merge/squash/rebase)\n",
    "* Applies the changes in the request or branch to the branch\n"
   ]
  },
  {
   "cell_type": "markdown",
   "metadata": {
    "slideshow": {
     "slide_type": "subslide"
    },
    "tags": []
   },
   "source": [
    "## Merge conflicts\n",
    "\n",
    "* Automatic resolution:\n",
    "    * Changes to different files\n",
    "    * Changes to different lines\n",
    "* Merge **conflicts**:\n",
    "    * Same lines edited\n",
    "    * Same removed or added\n",
    "    * Manual **resolution**: what is the **intended final state**\n",
    "    * Files marked up with conflict markers\n",
    "\n",
    "```text\n",
    "<<<<<<< HEAD\n",
    "x = np.random.random(40)\n",
    "=======\n",
    "x = np.random.randint(40, 0, 100)\n",
    ">>>>>>> feature/better_random\n",
    "```\n"
   ]
  },
  {
   "cell_type": "markdown",
   "metadata": {
    "slideshow": {
     "slide_type": "subslide"
    },
    "tags": []
   },
   "source": [
    "## The `git reset` command\n",
    "\n",
    "* Allows a **local** repository to step back\n",
    "    * `--soft`: undo commits\n",
    "    * `--hard`: discards changes (dangerous!)\n",
    "* Once commits have been pushed:\n",
    "    * Changes are now in other clones\n",
    "    * **Much** harder to correct errors"
   ]
  },
  {
   "cell_type": "markdown",
   "metadata": {
    "slideshow": {
     "slide_type": "slide"
    },
    "tags": []
   },
   "source": [
    "## The `pre-commit` extension\n",
    "\n",
    "* An framework to [manage pre-commit hooks](https://pre-commit.com)\n",
    "* [Git **hooks**](https://git-scm.com/book/en/v2/Customizing-Git-Git-Hooks) are instructions to run code when events happen.\n",
    "* The `pre-commit` hook:\n",
    "    * is triggered by `git commit` but...\n",
    "    * ...runs **before** the commit happens.\n",
    "* Typically used to run code checking before commit.\n",
    "* Code **must pass** the checking or the commit is aborted."
   ]
  },
  {
   "cell_type": "markdown",
   "metadata": {
    "slideshow": {
     "slide_type": "subslide"
    },
    "tags": []
   },
   "source": [
    "## The `pre-commit` extension\n",
    "\n",
    "* Adds a set of checking messages to commit outputs\n",
    "\n",
    "```bash\n",
    "pyrealm % git commit -m \"Catching missed hook issues\"\n",
    "check for merge conflicts..............................Passed\n",
    "debug statements (python)..............................Passed\n",
    "isort..................................................Passed\n",
    "black..................................................Passed\n",
    "flake8.................................................Passed\n",
    "[develop e35b55e] Catching missed hook issues\n",
    " 4 files changed, 80 insertions(+), 67 deletions(-)\n",
    "```"
   ]
  },
  {
   "cell_type": "markdown",
   "metadata": {
    "slideshow": {
     "slide_type": "slide"
    },
    "tags": []
   },
   "source": [
    "## Git Flow strategy\n",
    "\n",
    "* A [branching strategy for development using Git](https://nvie.com/posts/a-successful-git-branching-model/)\n",
    "* Not the only strategy and has been criticized!\n",
    "* Two core branches:\n",
    "    * production (often `main`)\n",
    "    * develop\n",
    "* Other branches as needed:\n",
    "    * release\n",
    "    * hotfix\n",
    "    * feature"
   ]
  },
  {
   "cell_type": "markdown",
   "metadata": {
    "slideshow": {
     "slide_type": "subslide"
    },
    "tags": []
   },
   "source": [
    "## Git Flow implementation\n",
    "\n",
    "* More than one implementation of the Git Flow strategy\n",
    "* Provide yet another set of commands\n",
    "* Combinations of [basic `git` commands](https://gist.github.com/JamesMGreene/cdd0ac49f90c987e45ac)\n",
    "* I have been using [the `gitflow-avh` implementation](https://github.com/petervanderdoes/gitflow-avh) "
   ]
  },
  {
   "cell_type": "markdown",
   "metadata": {
    "slideshow": {
     "slide_type": "subslide"
    },
    "tags": []
   },
   "source": [
    "## Git Flow branches\n",
    "\n",
    "![GitFlow.png](./images/git/GitFlow.png)"
   ]
  },
  {
   "cell_type": "markdown",
   "metadata": {
    "slideshow": {
     "slide_type": "subslide"
    },
    "tags": []
   },
   "source": [
    "## Git flow init\n",
    "\n",
    "A more complex `init` process that sets branch names.\n",
    "\n",
    "```text\n",
    "dorme@MacBook-Pro tmp % git flow init\n",
    "Initialized empty Git repository in /Users/dorme/Research/REALM/tmp/.git/\n",
    "No branches exist yet. Base branches must be created now.\n",
    "Branch name for production releases: [master] main\n",
    "Branch name for \"next release\" development: [develop] \n",
    "\n",
    "How to name your supporting branch prefixes?\n",
    "Feature branches? [feature/] \n",
    "Bugfix branches? [bugfix/] \n",
    "Release branches? [release/] \n",
    "Hotfix branches? [hotfix/] \n",
    "Support branches? [support/] \n",
    "Version tag prefix? [] v\n",
    "Hooks and filters directory? [/Users/dorme/Research/REALM/tmp/.git/hooks] y\n",
    "```"
   ]
  },
  {
   "cell_type": "markdown",
   "metadata": {
    "slideshow": {
     "slide_type": "subslide"
    },
    "tags": []
   },
   "source": [
    "## Example commands\n",
    "\n",
    "The basic pattern:\n",
    "    \n",
    "```bash\n",
    "git flow <branch> <action> <tag>\n",
    "\n",
    "# move from develop to new release/0.1\n",
    "git flow release start 0.1\n",
    "# push release/0.1 to remote origin - code shared\n",
    "git flow release publish 0.1  \n",
    "git commit -m \"Release fix\" mycode.py\n",
    "# release/0.1 merged to master and develop, deleted\n",
    "git flow release finish 0.1\n",
    "\n",
    "# master branched to new hotfix/0.1_bug\n",
    "git flow hotfix start 0.1.1 \n",
    "git commit -m \"Hotfix\" mycode.py\n",
    "# hotfix/0.1.1 merged to master v0.1.1 and develop, deleted\n",
    "git flow hotfix finish 0.1.1  \n",
    "```\n"
   ]
  }
 ],
 "metadata": {
  "kernelspec": {
   "display_name": "Bash",
   "language": "bash",
   "name": "bash"
  },
  "language_info": {
   "codemirror_mode": "shell",
   "file_extension": ".sh",
   "mimetype": "text/x-sh",
   "name": "bash"
  },
  "latex_envs": {
   "LaTeX_envs_menu_present": true,
   "autoclose": false,
   "autocomplete": false,
   "bibliofile": "biblio.bib",
   "cite_by": "apalike",
   "current_citInitial": 1,
   "eqLabelWithNumbers": true,
   "eqNumInitial": 1,
   "hotkeys": {
    "equation": "Ctrl-E",
    "itemize": "Ctrl-I"
   },
   "labels_anchors": false,
   "latex_user_defs": false,
   "report_style_numbering": false,
   "user_envs_cfg": false
  },
  "toc": {
   "base_numbering": 1,
   "nav_menu": {},
   "number_sections": true,
   "sideBar": false,
   "skip_h1_title": false,
   "title_cell": "Contents",
   "title_sidebar": "Contents",
   "toc_cell": false,
   "toc_position": {},
   "toc_section_display": false,
   "toc_window_display": true
  }
 },
 "nbformat": 4,
 "nbformat_minor": 4
}
